{
 "cells": [
  {
   "cell_type": "markdown",
   "id": "0aeeb8db",
   "metadata": {},
   "source": [
    "# Predicting heart disease using machine learning\n",
    "\n",
    "This notebook looks into using ML and data science libraries to build a ML model capable of predicting whether or not someone has heart disease based on their medical attributes.\n",
    "\n",
    "We're going to take the following approach:\n",
    "1. Problem definition\n",
    "2. Data\n",
    "3. Features\n",
    "4. Modelling\n",
    "\n",
    "\n",
    "## 1. Problem Definition\n",
    "\n",
    "Can we predict whether or not they have heart disease?\n",
    "\n",
    "## 2. Data\n",
    "\n",
    "The original data came from the Cleavland data. https://www.kaggle.com/datasets/redwankarimsony/heart-disease-data\n",
    "\n",
    "\n",
    "## 3. Features\n",
    "\n",
    "**Create data dictionary**\n",
    "1. `id` (Unique id for each patient)\n",
    "2. `age` (Age of the patient in years)\n",
    "3. `origin` (place of study)\n",
    "4. `sex` (Male/Female)\n",
    "5. `cp` chest pain type \n",
    "        * typical angina (consists of (1) Substernal chest pain or discomfort that is (2) Provoked by exertion or emotional stress and (3) relieved by rest or nitroglycerine (or both))\n",
    "        * atypical angina (applies when 2 out of 3 criteria of classic angina are present)\n",
    "        * non-anginal \n",
    "        * asymptomatic (If ≤ 1 of the criteria of classic angina is present, symptoms are classified as non-specific)\n",
    "6. `trestbps` resting blood pressure (in mm Hg on admission to the hospital)\n",
    "7. `chol` (serum cholesterol in mg/dl)\n",
    "8. `fbs` (if fasting blood sugar > 120 mg/dl)\n",
    "9. `restecg` (resting electrocardiographic results)\n",
    "        * normal stt\n",
    "        * abnormality\n",
    "        * lv hypertrophy\n",
    "10. `thalach`: maximum heart rate achieved\n",
    "11. `exang`: exercise-induced angina (True/ False)\n",
    "12. `oldpeak`: ST depression induced by exercise relative to rest\n",
    "13. `slope`: the slope of the peak exercise ST segment\n",
    "14. `ca`: number of major vessels (0-3) colored by fluoroscopy\n",
    "15. `thal`: \n",
    "        * normal\n",
    "        * fixed defect\n",
    "        * reversible defect\n",
    "16. `num`: the predicted attribute, target\n",
    "        * 0=no heart disease\n",
    "        * 1,2,3,4 = stages of heart disease"
   ]
  },
  {
   "cell_type": "markdown",
   "id": "5dab67dc",
   "metadata": {},
   "source": [
    "## Preparing the tools \n",
    "\n",
    "We're gooing to use pandas, Matplotlib and Numpy for data analysis and manipulation"
   ]
  },
  {
   "cell_type": "code",
   "execution_count": 1,
   "id": "c6259578",
   "metadata": {},
   "outputs": [],
   "source": [
    "# Regular EDA (exploratory data analysis) and plotting libraries\n",
    "import pandas as pd\n",
    "import numpy as np\n",
    "import matplotlib.pyplot as plt\n",
    "import seaborn as sns\n",
    "\n",
    "%matplotlib inline\n",
    "\n",
    "# Models from Scikit-Learn\n",
    "from sklearn.neighbors import KNeighborsClassifier\n",
    "from sklearn.linear_model import LogisticRegression\n",
    "from sklearn.ensemble import RandomForestClassifier\n",
    "from sklearn.svm import LinearSVC\n",
    "from sklearn.svm import SVC\n",
    "\n",
    "# Model Evaluations\n",
    "from sklearn.model_selection import RandomizedSearchCV, GridSearchCV\n",
    "from sklearn.model_selection import StratifiedKFold\n",
    "from sklearn.model_selection import cross_val_score, train_test_split\n",
    "from sklearn.metrics import confusion_matrix, classification_report\n",
    "from sklearn.metrics import accuracy_score, precision_score, recall_score, f1_score\n",
    "from sklearn.metrics import plot_roc_curve"
   ]
  },
  {
   "cell_type": "markdown",
   "id": "c1eb8600",
   "metadata": {},
   "source": [
    "## Load data"
   ]
  },
  {
   "cell_type": "code",
   "execution_count": 2,
   "id": "26de9004",
   "metadata": {},
   "outputs": [
    {
     "data": {
      "text/html": [
       "<div>\n",
       "<style scoped>\n",
       "    .dataframe tbody tr th:only-of-type {\n",
       "        vertical-align: middle;\n",
       "    }\n",
       "\n",
       "    .dataframe tbody tr th {\n",
       "        vertical-align: top;\n",
       "    }\n",
       "\n",
       "    .dataframe thead th {\n",
       "        text-align: right;\n",
       "    }\n",
       "</style>\n",
       "<table border=\"1\" class=\"dataframe\">\n",
       "  <thead>\n",
       "    <tr style=\"text-align: right;\">\n",
       "      <th></th>\n",
       "      <th>id</th>\n",
       "      <th>age</th>\n",
       "      <th>sex</th>\n",
       "      <th>dataset</th>\n",
       "      <th>cp</th>\n",
       "      <th>trestbps</th>\n",
       "      <th>chol</th>\n",
       "      <th>fbs</th>\n",
       "      <th>restecg</th>\n",
       "      <th>thalch</th>\n",
       "      <th>exang</th>\n",
       "      <th>oldpeak</th>\n",
       "      <th>slope</th>\n",
       "      <th>ca</th>\n",
       "      <th>thal</th>\n",
       "      <th>num</th>\n",
       "    </tr>\n",
       "  </thead>\n",
       "  <tbody>\n",
       "    <tr>\n",
       "      <th>0</th>\n",
       "      <td>1</td>\n",
       "      <td>63</td>\n",
       "      <td>Male</td>\n",
       "      <td>Cleveland</td>\n",
       "      <td>typical angina</td>\n",
       "      <td>145.0</td>\n",
       "      <td>233.0</td>\n",
       "      <td>True</td>\n",
       "      <td>lv hypertrophy</td>\n",
       "      <td>150.0</td>\n",
       "      <td>False</td>\n",
       "      <td>2.3</td>\n",
       "      <td>downsloping</td>\n",
       "      <td>0.0</td>\n",
       "      <td>fixed defect</td>\n",
       "      <td>0</td>\n",
       "    </tr>\n",
       "    <tr>\n",
       "      <th>1</th>\n",
       "      <td>2</td>\n",
       "      <td>67</td>\n",
       "      <td>Male</td>\n",
       "      <td>Cleveland</td>\n",
       "      <td>asymptomatic</td>\n",
       "      <td>160.0</td>\n",
       "      <td>286.0</td>\n",
       "      <td>False</td>\n",
       "      <td>lv hypertrophy</td>\n",
       "      <td>108.0</td>\n",
       "      <td>True</td>\n",
       "      <td>1.5</td>\n",
       "      <td>flat</td>\n",
       "      <td>3.0</td>\n",
       "      <td>normal</td>\n",
       "      <td>2</td>\n",
       "    </tr>\n",
       "    <tr>\n",
       "      <th>2</th>\n",
       "      <td>3</td>\n",
       "      <td>67</td>\n",
       "      <td>Male</td>\n",
       "      <td>Cleveland</td>\n",
       "      <td>asymptomatic</td>\n",
       "      <td>120.0</td>\n",
       "      <td>229.0</td>\n",
       "      <td>False</td>\n",
       "      <td>lv hypertrophy</td>\n",
       "      <td>129.0</td>\n",
       "      <td>True</td>\n",
       "      <td>2.6</td>\n",
       "      <td>flat</td>\n",
       "      <td>2.0</td>\n",
       "      <td>reversable defect</td>\n",
       "      <td>1</td>\n",
       "    </tr>\n",
       "    <tr>\n",
       "      <th>3</th>\n",
       "      <td>4</td>\n",
       "      <td>37</td>\n",
       "      <td>Male</td>\n",
       "      <td>Cleveland</td>\n",
       "      <td>non-anginal</td>\n",
       "      <td>130.0</td>\n",
       "      <td>250.0</td>\n",
       "      <td>False</td>\n",
       "      <td>normal</td>\n",
       "      <td>187.0</td>\n",
       "      <td>False</td>\n",
       "      <td>3.5</td>\n",
       "      <td>downsloping</td>\n",
       "      <td>0.0</td>\n",
       "      <td>normal</td>\n",
       "      <td>0</td>\n",
       "    </tr>\n",
       "    <tr>\n",
       "      <th>4</th>\n",
       "      <td>5</td>\n",
       "      <td>41</td>\n",
       "      <td>Female</td>\n",
       "      <td>Cleveland</td>\n",
       "      <td>atypical angina</td>\n",
       "      <td>130.0</td>\n",
       "      <td>204.0</td>\n",
       "      <td>False</td>\n",
       "      <td>lv hypertrophy</td>\n",
       "      <td>172.0</td>\n",
       "      <td>False</td>\n",
       "      <td>1.4</td>\n",
       "      <td>upsloping</td>\n",
       "      <td>0.0</td>\n",
       "      <td>normal</td>\n",
       "      <td>0</td>\n",
       "    </tr>\n",
       "    <tr>\n",
       "      <th>...</th>\n",
       "      <td>...</td>\n",
       "      <td>...</td>\n",
       "      <td>...</td>\n",
       "      <td>...</td>\n",
       "      <td>...</td>\n",
       "      <td>...</td>\n",
       "      <td>...</td>\n",
       "      <td>...</td>\n",
       "      <td>...</td>\n",
       "      <td>...</td>\n",
       "      <td>...</td>\n",
       "      <td>...</td>\n",
       "      <td>...</td>\n",
       "      <td>...</td>\n",
       "      <td>...</td>\n",
       "      <td>...</td>\n",
       "    </tr>\n",
       "    <tr>\n",
       "      <th>915</th>\n",
       "      <td>916</td>\n",
       "      <td>54</td>\n",
       "      <td>Female</td>\n",
       "      <td>VA Long Beach</td>\n",
       "      <td>asymptomatic</td>\n",
       "      <td>127.0</td>\n",
       "      <td>333.0</td>\n",
       "      <td>True</td>\n",
       "      <td>st-t abnormality</td>\n",
       "      <td>154.0</td>\n",
       "      <td>False</td>\n",
       "      <td>0.0</td>\n",
       "      <td>NaN</td>\n",
       "      <td>NaN</td>\n",
       "      <td>NaN</td>\n",
       "      <td>1</td>\n",
       "    </tr>\n",
       "    <tr>\n",
       "      <th>916</th>\n",
       "      <td>917</td>\n",
       "      <td>62</td>\n",
       "      <td>Male</td>\n",
       "      <td>VA Long Beach</td>\n",
       "      <td>typical angina</td>\n",
       "      <td>NaN</td>\n",
       "      <td>139.0</td>\n",
       "      <td>False</td>\n",
       "      <td>st-t abnormality</td>\n",
       "      <td>NaN</td>\n",
       "      <td>NaN</td>\n",
       "      <td>NaN</td>\n",
       "      <td>NaN</td>\n",
       "      <td>NaN</td>\n",
       "      <td>NaN</td>\n",
       "      <td>0</td>\n",
       "    </tr>\n",
       "    <tr>\n",
       "      <th>917</th>\n",
       "      <td>918</td>\n",
       "      <td>55</td>\n",
       "      <td>Male</td>\n",
       "      <td>VA Long Beach</td>\n",
       "      <td>asymptomatic</td>\n",
       "      <td>122.0</td>\n",
       "      <td>223.0</td>\n",
       "      <td>True</td>\n",
       "      <td>st-t abnormality</td>\n",
       "      <td>100.0</td>\n",
       "      <td>False</td>\n",
       "      <td>0.0</td>\n",
       "      <td>NaN</td>\n",
       "      <td>NaN</td>\n",
       "      <td>fixed defect</td>\n",
       "      <td>2</td>\n",
       "    </tr>\n",
       "    <tr>\n",
       "      <th>918</th>\n",
       "      <td>919</td>\n",
       "      <td>58</td>\n",
       "      <td>Male</td>\n",
       "      <td>VA Long Beach</td>\n",
       "      <td>asymptomatic</td>\n",
       "      <td>NaN</td>\n",
       "      <td>385.0</td>\n",
       "      <td>True</td>\n",
       "      <td>lv hypertrophy</td>\n",
       "      <td>NaN</td>\n",
       "      <td>NaN</td>\n",
       "      <td>NaN</td>\n",
       "      <td>NaN</td>\n",
       "      <td>NaN</td>\n",
       "      <td>NaN</td>\n",
       "      <td>0</td>\n",
       "    </tr>\n",
       "    <tr>\n",
       "      <th>919</th>\n",
       "      <td>920</td>\n",
       "      <td>62</td>\n",
       "      <td>Male</td>\n",
       "      <td>VA Long Beach</td>\n",
       "      <td>atypical angina</td>\n",
       "      <td>120.0</td>\n",
       "      <td>254.0</td>\n",
       "      <td>False</td>\n",
       "      <td>lv hypertrophy</td>\n",
       "      <td>93.0</td>\n",
       "      <td>True</td>\n",
       "      <td>0.0</td>\n",
       "      <td>NaN</td>\n",
       "      <td>NaN</td>\n",
       "      <td>NaN</td>\n",
       "      <td>1</td>\n",
       "    </tr>\n",
       "  </tbody>\n",
       "</table>\n",
       "<p>920 rows × 16 columns</p>\n",
       "</div>"
      ],
      "text/plain": [
       "      id  age     sex        dataset               cp  trestbps   chol    fbs  \\\n",
       "0      1   63    Male      Cleveland   typical angina     145.0  233.0   True   \n",
       "1      2   67    Male      Cleveland     asymptomatic     160.0  286.0  False   \n",
       "2      3   67    Male      Cleveland     asymptomatic     120.0  229.0  False   \n",
       "3      4   37    Male      Cleveland      non-anginal     130.0  250.0  False   \n",
       "4      5   41  Female      Cleveland  atypical angina     130.0  204.0  False   \n",
       "..   ...  ...     ...            ...              ...       ...    ...    ...   \n",
       "915  916   54  Female  VA Long Beach     asymptomatic     127.0  333.0   True   \n",
       "916  917   62    Male  VA Long Beach   typical angina       NaN  139.0  False   \n",
       "917  918   55    Male  VA Long Beach     asymptomatic     122.0  223.0   True   \n",
       "918  919   58    Male  VA Long Beach     asymptomatic       NaN  385.0   True   \n",
       "919  920   62    Male  VA Long Beach  atypical angina     120.0  254.0  False   \n",
       "\n",
       "              restecg  thalch  exang  oldpeak        slope   ca  \\\n",
       "0      lv hypertrophy   150.0  False      2.3  downsloping  0.0   \n",
       "1      lv hypertrophy   108.0   True      1.5         flat  3.0   \n",
       "2      lv hypertrophy   129.0   True      2.6         flat  2.0   \n",
       "3              normal   187.0  False      3.5  downsloping  0.0   \n",
       "4      lv hypertrophy   172.0  False      1.4    upsloping  0.0   \n",
       "..                ...     ...    ...      ...          ...  ...   \n",
       "915  st-t abnormality   154.0  False      0.0          NaN  NaN   \n",
       "916  st-t abnormality     NaN    NaN      NaN          NaN  NaN   \n",
       "917  st-t abnormality   100.0  False      0.0          NaN  NaN   \n",
       "918    lv hypertrophy     NaN    NaN      NaN          NaN  NaN   \n",
       "919    lv hypertrophy    93.0   True      0.0          NaN  NaN   \n",
       "\n",
       "                  thal  num  \n",
       "0         fixed defect    0  \n",
       "1               normal    2  \n",
       "2    reversable defect    1  \n",
       "3               normal    0  \n",
       "4               normal    0  \n",
       "..                 ...  ...  \n",
       "915                NaN    1  \n",
       "916                NaN    0  \n",
       "917       fixed defect    2  \n",
       "918                NaN    0  \n",
       "919                NaN    1  \n",
       "\n",
       "[920 rows x 16 columns]"
      ]
     },
     "execution_count": 2,
     "metadata": {},
     "output_type": "execute_result"
    }
   ],
   "source": [
    "df = pd.read_csv(r'C:\\Users\\ASUS\\studing\\heart_disease_project\\heart_disease_uci.csv', encoding='windows-1251')\n",
    "df"
   ]
  },
  {
   "cell_type": "markdown",
   "id": "f4459b03",
   "metadata": {},
   "source": [
    "## Data Exploration"
   ]
  },
  {
   "cell_type": "code",
   "execution_count": 54,
   "id": "673ced1f",
   "metadata": {},
   "outputs": [
    {
     "data": {
      "text/plain": [
       "id            int64\n",
       "age           int64\n",
       "sex          object\n",
       "dataset      object\n",
       "cp           object\n",
       "trestbps    float64\n",
       "chol        float64\n",
       "fbs          object\n",
       "restecg      object\n",
       "thalch      float64\n",
       "exang        object\n",
       "oldpeak     float64\n",
       "slope        object\n",
       "ca          float64\n",
       "thal         object\n",
       "num           int64\n",
       "dtype: object"
      ]
     },
     "execution_count": 54,
     "metadata": {},
     "output_type": "execute_result"
    }
   ],
   "source": [
    "df.dtypes"
   ]
  },
  {
   "cell_type": "code",
   "execution_count": 56,
   "id": "befb6581",
   "metadata": {},
   "outputs": [
    {
     "data": {
      "text/html": [
       "<div>\n",
       "<style scoped>\n",
       "    .dataframe tbody tr th:only-of-type {\n",
       "        vertical-align: middle;\n",
       "    }\n",
       "\n",
       "    .dataframe tbody tr th {\n",
       "        vertical-align: top;\n",
       "    }\n",
       "\n",
       "    .dataframe thead th {\n",
       "        text-align: right;\n",
       "    }\n",
       "</style>\n",
       "<table border=\"1\" class=\"dataframe\">\n",
       "  <thead>\n",
       "    <tr style=\"text-align: right;\">\n",
       "      <th></th>\n",
       "      <th>id</th>\n",
       "      <th>age</th>\n",
       "      <th>trestbps</th>\n",
       "      <th>chol</th>\n",
       "      <th>thalch</th>\n",
       "      <th>oldpeak</th>\n",
       "      <th>ca</th>\n",
       "      <th>num</th>\n",
       "    </tr>\n",
       "  </thead>\n",
       "  <tbody>\n",
       "    <tr>\n",
       "      <th>count</th>\n",
       "      <td>920.000000</td>\n",
       "      <td>920.000000</td>\n",
       "      <td>861.000000</td>\n",
       "      <td>890.000000</td>\n",
       "      <td>865.000000</td>\n",
       "      <td>858.000000</td>\n",
       "      <td>309.000000</td>\n",
       "      <td>920.000000</td>\n",
       "    </tr>\n",
       "    <tr>\n",
       "      <th>mean</th>\n",
       "      <td>460.500000</td>\n",
       "      <td>53.510870</td>\n",
       "      <td>132.132404</td>\n",
       "      <td>199.130337</td>\n",
       "      <td>137.545665</td>\n",
       "      <td>0.878788</td>\n",
       "      <td>0.676375</td>\n",
       "      <td>0.995652</td>\n",
       "    </tr>\n",
       "    <tr>\n",
       "      <th>std</th>\n",
       "      <td>265.725422</td>\n",
       "      <td>9.424685</td>\n",
       "      <td>19.066070</td>\n",
       "      <td>110.780810</td>\n",
       "      <td>25.926276</td>\n",
       "      <td>1.091226</td>\n",
       "      <td>0.935653</td>\n",
       "      <td>1.142693</td>\n",
       "    </tr>\n",
       "    <tr>\n",
       "      <th>min</th>\n",
       "      <td>1.000000</td>\n",
       "      <td>28.000000</td>\n",
       "      <td>0.000000</td>\n",
       "      <td>0.000000</td>\n",
       "      <td>60.000000</td>\n",
       "      <td>-2.600000</td>\n",
       "      <td>0.000000</td>\n",
       "      <td>0.000000</td>\n",
       "    </tr>\n",
       "    <tr>\n",
       "      <th>25%</th>\n",
       "      <td>230.750000</td>\n",
       "      <td>47.000000</td>\n",
       "      <td>120.000000</td>\n",
       "      <td>175.000000</td>\n",
       "      <td>120.000000</td>\n",
       "      <td>0.000000</td>\n",
       "      <td>0.000000</td>\n",
       "      <td>0.000000</td>\n",
       "    </tr>\n",
       "    <tr>\n",
       "      <th>50%</th>\n",
       "      <td>460.500000</td>\n",
       "      <td>54.000000</td>\n",
       "      <td>130.000000</td>\n",
       "      <td>223.000000</td>\n",
       "      <td>140.000000</td>\n",
       "      <td>0.500000</td>\n",
       "      <td>0.000000</td>\n",
       "      <td>1.000000</td>\n",
       "    </tr>\n",
       "    <tr>\n",
       "      <th>75%</th>\n",
       "      <td>690.250000</td>\n",
       "      <td>60.000000</td>\n",
       "      <td>140.000000</td>\n",
       "      <td>268.000000</td>\n",
       "      <td>157.000000</td>\n",
       "      <td>1.500000</td>\n",
       "      <td>1.000000</td>\n",
       "      <td>2.000000</td>\n",
       "    </tr>\n",
       "    <tr>\n",
       "      <th>max</th>\n",
       "      <td>920.000000</td>\n",
       "      <td>77.000000</td>\n",
       "      <td>200.000000</td>\n",
       "      <td>603.000000</td>\n",
       "      <td>202.000000</td>\n",
       "      <td>6.200000</td>\n",
       "      <td>3.000000</td>\n",
       "      <td>4.000000</td>\n",
       "    </tr>\n",
       "  </tbody>\n",
       "</table>\n",
       "</div>"
      ],
      "text/plain": [
       "               id         age    trestbps        chol      thalch     oldpeak  \\\n",
       "count  920.000000  920.000000  861.000000  890.000000  865.000000  858.000000   \n",
       "mean   460.500000   53.510870  132.132404  199.130337  137.545665    0.878788   \n",
       "std    265.725422    9.424685   19.066070  110.780810   25.926276    1.091226   \n",
       "min      1.000000   28.000000    0.000000    0.000000   60.000000   -2.600000   \n",
       "25%    230.750000   47.000000  120.000000  175.000000  120.000000    0.000000   \n",
       "50%    460.500000   54.000000  130.000000  223.000000  140.000000    0.500000   \n",
       "75%    690.250000   60.000000  140.000000  268.000000  157.000000    1.500000   \n",
       "max    920.000000   77.000000  200.000000  603.000000  202.000000    6.200000   \n",
       "\n",
       "               ca         num  \n",
       "count  309.000000  920.000000  \n",
       "mean     0.676375    0.995652  \n",
       "std      0.935653    1.142693  \n",
       "min      0.000000    0.000000  \n",
       "25%      0.000000    0.000000  \n",
       "50%      0.000000    1.000000  \n",
       "75%      1.000000    2.000000  \n",
       "max      3.000000    4.000000  "
      ]
     },
     "execution_count": 56,
     "metadata": {},
     "output_type": "execute_result"
    }
   ],
   "source": [
    "df.describe()"
   ]
  },
  {
   "cell_type": "code",
   "execution_count": 58,
   "id": "edcce952",
   "metadata": {},
   "outputs": [
    {
     "data": {
      "text/plain": [
       "id            0\n",
       "age           0\n",
       "sex           0\n",
       "dataset       0\n",
       "cp            0\n",
       "trestbps     59\n",
       "chol         30\n",
       "fbs          90\n",
       "restecg       2\n",
       "thalch       55\n",
       "exang        55\n",
       "oldpeak      62\n",
       "slope       309\n",
       "ca          611\n",
       "thal        486\n",
       "num           0\n",
       "dtype: int64"
      ]
     },
     "execution_count": 58,
     "metadata": {},
     "output_type": "execute_result"
    }
   ],
   "source": [
    "df.isna().sum()"
   ]
  },
  {
   "cell_type": "markdown",
   "id": "2eaf1e1a",
   "metadata": {},
   "source": [
    "We're try to predict whether or not a patient has heart disease, so we combine stages of heart disease into `has heart disease`"
   ]
  },
  {
   "cell_type": "code",
   "execution_count": 3,
   "id": "2f1d2c96",
   "metadata": {},
   "outputs": [],
   "source": [
    "df['num'] = np.where(df['num']>0, 1, 0)\n",
    "df = df.rename(columns={'num':'target'})"
   ]
  },
  {
   "cell_type": "markdown",
   "id": "aee6d354",
   "metadata": {},
   "source": [
    "### Visualize the distribution of categorical variables "
   ]
  },
  {
   "cell_type": "code",
   "execution_count": 67,
   "id": "cb95a0ab",
   "metadata": {},
   "outputs": [
    {
     "data": {
      "text/plain": [
       "1    509\n",
       "0    411\n",
       "Name: target, dtype: int64"
      ]
     },
     "execution_count": 67,
     "metadata": {},
     "output_type": "execute_result"
    }
   ],
   "source": [
    "df['target'].value_counts()"
   ]
  },
  {
   "cell_type": "code",
   "execution_count": 68,
   "id": "b66161e5",
   "metadata": {},
   "outputs": [
    {
     "data": {
      "image/png": "[encoded data removed]",
      "text/plain": [
       "<Figure size 1440x720 with 6 Axes>"
      ]
     },
     "metadata": {
      "needs_background": "light"
     },
     "output_type": "display_data"
    }
   ],
   "source": [
    "# Visualize the distribution of categorical variables\n",
    "fig, ax = plt.subplots(nrows=2,\n",
    "                      ncols=3,\n",
    "                      figsize=(20,10),\n",
    "                      constrained_layout = True)\n",
    "\n",
    "sns.countplot(x = df['sex'],\n",
    "              ax=ax[0,0]);\n",
    "ax[0,0].set(title ='Gender distribution');\n",
    "\n",
    "sns.countplot(x = df['cp'],\n",
    "              ax=ax[0,1]);\n",
    "ax[0,1].set(title ='Chest pain type distribution');\n",
    "\n",
    "sns.countplot(x = df['fbs'],\n",
    "              ax=ax[0,2]);\n",
    "ax[0,2].set(title ='if fasting blood sugar > 120 mg/dl');\n",
    "\n",
    "sns.countplot(x = df['restecg'],\n",
    "              ax=ax[1,0]);\n",
    "ax[1,0].set(title ='Resting electrocardiographic results distribution');\n",
    "\n",
    "sns.countplot(x = df['exang'],\n",
    "              ax=ax[1,1]);\n",
    "ax[1,1].set(title ='Exercise-induced angina distribution');\n"
   ]
  },
  {
   "cell_type": "code",
   "execution_count": 65,
   "id": "86b042cb",
   "metadata": {},
   "outputs": [
    {
     "data": {
      "image/png": "[encoded data removed]",
      "text/plain": [
       "<Figure size 720x720 with 4 Axes>"
      ]
     },
     "metadata": {
      "needs_background": "light"
     },
     "output_type": "display_data"
    }
   ],
   "source": [
    "# Visualize the distribution of categorical variables depending of target\n",
    "fig, ax = plt.subplots(nrows=2,\n",
    "                      ncols=2,\n",
    "                      figsize=(10,10))\n",
    "\n",
    "\n",
    "sns.countplot(x = df['restecg'],\n",
    "              hue = df['target'],\n",
    "              ax=ax[0,0]);\n",
    "ax[0,0].set(title ='Resting electrocardiographic results');\n",
    "\n",
    "sns.countplot(x = df['exang'],\n",
    "             hue = df['target'],\n",
    "             ax=ax[0,1]);\n",
    "ax[0,1].set(title ='Exercise-induced angina');\n",
    "\n",
    "sns.countplot(x = df['fbs'],\n",
    "             hue = df['target'],\n",
    "             ax=ax[1,0]);\n",
    "ax[1,0].set(title ='if fasting blood sugar > 120 mg/dl');\n",
    "\n",
    "sns.countplot(x = df['sex'],\n",
    "             hue = df['target'],\n",
    "             ax=ax[1,1]);\n",
    "ax[1,1].set(title ='Heart Disease Frequency for Sex');\n",
    "\n",
    "ax[0,0].legend(['No heart disease', 'Heart disease']);\n",
    "ax[0,1].legend(['No heart disease', 'Heart disease']);\n",
    "ax[1,0].legend(['No heart disease', 'Heart disease']);\n",
    "ax[1,1].legend(['No heart disease', 'Heart disease']);"
   ]
  },
  {
   "cell_type": "markdown",
   "id": "b9c28ca1",
   "metadata": {},
   "source": [
    "### Visualize the distribution of numerical variables "
   ]
  },
  {
   "cell_type": "code",
   "execution_count": 69,
   "id": "fc421ffa",
   "metadata": {},
   "outputs": [
    {
     "data": {
      "image/png": "[encoded data removed]",
      "text/plain": [
       "<Figure size 1440x720 with 1 Axes>"
      ]
     },
     "metadata": {
      "needs_background": "light"
     },
     "output_type": "display_data"
    }
   ],
   "source": [
    "df.boxplot(figsize=(20,10));"
   ]
  },
  {
   "cell_type": "code",
   "execution_count": 70,
   "id": "23d0e060",
   "metadata": {},
   "outputs": [
    {
     "data": {
      "image/png": "[encoded data removed]",
      "text/plain": [
       "<Figure size 1440x720 with 6 Axes>"
      ]
     },
     "metadata": {
      "needs_background": "light"
     },
     "output_type": "display_data"
    }
   ],
   "source": [
    "fig, ax = plt.subplots(nrows=2,\n",
    "                      ncols=3,\n",
    "                      figsize=(20,10),\n",
    "                      constrained_layout = True)\n",
    "\n",
    "df.boxplot(column='age', ax=ax[0,0]);\n",
    "ax[0,0].set(title ='Age');\n",
    "\n",
    "df.boxplot(column='trestbps', ax=ax[0,1]);\n",
    "ax[0,1].set(title ='Resting blood pressure');\n",
    "\n",
    "df.boxplot(column='chol', ax=ax[0,2]);\n",
    "ax[0,2].set(title ='Serum cholesterol');\n",
    "\n",
    "df.boxplot(column='thalch', ax=ax[1,0]);\n",
    "ax[1,0].set(title ='Maximum heart rate');\n",
    "\n",
    "df.boxplot(column='oldpeak', ax=ax[1,1]);\n",
    "ax[1,1].set(title ='ST depression');\n"
   ]
  },
  {
   "cell_type": "code",
   "execution_count": 72,
   "id": "8981bac7",
   "metadata": {},
   "outputs": [
    {
     "data": {
      "text/html": [
       "<div>\n",
       "<style scoped>\n",
       "    .dataframe tbody tr th:only-of-type {\n",
       "        vertical-align: middle;\n",
       "    }\n",
       "\n",
       "    .dataframe tbody tr th {\n",
       "        vertical-align: top;\n",
       "    }\n",
       "\n",
       "    .dataframe thead th {\n",
       "        text-align: right;\n",
       "    }\n",
       "</style>\n",
       "<table border=\"1\" class=\"dataframe\">\n",
       "  <thead>\n",
       "    <tr style=\"text-align: right;\">\n",
       "      <th></th>\n",
       "      <th>target</th>\n",
       "      <th>id</th>\n",
       "      <th>age</th>\n",
       "      <th>trestbps</th>\n",
       "      <th>chol</th>\n",
       "      <th>thalch</th>\n",
       "      <th>oldpeak</th>\n",
       "      <th>ca</th>\n",
       "    </tr>\n",
       "  </thead>\n",
       "  <tbody>\n",
       "    <tr>\n",
       "      <th>0</th>\n",
       "      <td>0</td>\n",
       "      <td>355.257908</td>\n",
       "      <td>50.547445</td>\n",
       "      <td>129.913043</td>\n",
       "      <td>227.905612</td>\n",
       "      <td>148.800512</td>\n",
       "      <td>0.418205</td>\n",
       "      <td>0.278788</td>\n",
       "    </tr>\n",
       "    <tr>\n",
       "      <th>1</th>\n",
       "      <td>1</td>\n",
       "      <td>545.479371</td>\n",
       "      <td>55.903733</td>\n",
       "      <td>133.978723</td>\n",
       "      <td>176.479920</td>\n",
       "      <td>128.261603</td>\n",
       "      <td>1.262607</td>\n",
       "      <td>1.131944</td>\n",
       "    </tr>\n",
       "  </tbody>\n",
       "</table>\n",
       "</div>"
      ],
      "text/plain": [
       "   target          id        age    trestbps        chol      thalch  \\\n",
       "0       0  355.257908  50.547445  129.913043  227.905612  148.800512   \n",
       "1       1  545.479371  55.903733  133.978723  176.479920  128.261603   \n",
       "\n",
       "    oldpeak        ca  \n",
       "0  0.418205  0.278788  \n",
       "1  1.262607  1.131944  "
      ]
     },
     "execution_count": 72,
     "metadata": {},
     "output_type": "execute_result"
    }
   ],
   "source": [
    "df.groupby(['target'], as_index=False).mean()"
   ]
  },
  {
   "cell_type": "code",
   "execution_count": 103,
   "id": "5ec1002f",
   "metadata": {},
   "outputs": [
    {
     "data": {
      "image/png": "[encoded data removed]",
      "text/plain": [
       "<Figure size 720x504 with 4 Axes>"
      ]
     },
     "metadata": {
      "needs_background": "light"
     },
     "output_type": "display_data"
    }
   ],
   "source": [
    "# Visualize the distribution of categorical variables depending of target\n",
    "fig, ax = plt.subplots(nrows=2,\n",
    "                       ncols=2,\n",
    "                       figsize=(10,7),\n",
    "                       constrained_layout = True)\n",
    "\n",
    "# Resting blood pressure ('trestbps')\n",
    "df.query('target != 0').plot.hist(bins=40, column=['trestbps'], ax=ax[0,0], alpha=0.7)\n",
    "df.query('target == 0').plot.hist(bins=40, column=['trestbps'], ax=ax[0,0], alpha=0.7)\n",
    "ax[0,0].set(title ='Resting blood pressure (trestbps)',\n",
    "         xlim=[0,210],\n",
    "         ylim=[0,215]);\n",
    "ax[0,0].legend(['No heart disease', 'Heart disease']);\n",
    "\n",
    "# Serum cholesterol ('chol')\n",
    "df.query('target != 0').plot.hist(bins=40, column=['chol'], ax=ax[0,1], alpha=0.7)\n",
    "df.query('target == 0').plot.hist(bins=40, column=['chol'], ax=ax[0,1], alpha=0.7)\n",
    "ax[0,1].set(title ='Serum cholesterol in mg/dl (chol)',\n",
    "         xlim=[0,600],\n",
    "         ylim=[0,160]);\n",
    "ax[0,1].legend(['No heart disease', 'Heart disease']);\n",
    "\n",
    "# Maximum heart rate ('thalach')\n",
    "df.query('target != 0').plot.hist(bins=40, column=['thalch'], ax=ax[1,0], alpha=0.7)\n",
    "df.query('target == 0').plot.hist(bins=40, column=['thalch'], ax=ax[1,0], alpha=0.7)\n",
    "ax[1,0].set(title ='Maximum heart rate (thalach)',\n",
    "         xlim=[50,215],\n",
    "         ylim=[0,175]);\n",
    "ax[1,0].legend(['No heart disease', 'Heart disease']);\n",
    "\n",
    "#ST depression induced by exercise relative to rest ('oldpeak')\n",
    "df.query('target != 0').plot.hist(bins=80, column=['oldpeak'], ax=ax[1,1], alpha=0.7)\n",
    "df.query('target == 0').plot.hist(bins=80, column=['oldpeak'], ax=ax[1,1], alpha=0.7)\n",
    "ax[1,1].set(title ='ST depression induced by exercise relative to rest (oldpeak)',\n",
    "         xlim=[-3,15]);\n",
    "ax[1,1].legend(['No heart disease', 'Heart disease']);"
   ]
  },
  {
   "cell_type": "markdown",
   "id": "df3d6487",
   "metadata": {},
   "source": [
    "`chol` and `trastbps` have values equal 0, most likely this is a measurement error, so we'll delete 0 values or replaced with an mean value"
   ]
  },
  {
   "cell_type": "code",
   "execution_count": 108,
   "id": "a09b890b",
   "metadata": {},
   "outputs": [
    {
     "data": {
      "text/html": [
       "<div>\n",
       "<style scoped>\n",
       "    .dataframe tbody tr th:only-of-type {\n",
       "        vertical-align: middle;\n",
       "    }\n",
       "\n",
       "    .dataframe tbody tr th {\n",
       "        vertical-align: top;\n",
       "    }\n",
       "\n",
       "    .dataframe thead th {\n",
       "        text-align: right;\n",
       "    }\n",
       "</style>\n",
       "<table border=\"1\" class=\"dataframe\">\n",
       "  <thead>\n",
       "    <tr style=\"text-align: right;\">\n",
       "      <th></th>\n",
       "      <th>hd</th>\n",
       "      <th>no_hd</th>\n",
       "      <th>both</th>\n",
       "    </tr>\n",
       "  </thead>\n",
       "  <tbody>\n",
       "    <tr>\n",
       "      <th>thalch</th>\n",
       "      <td>128.261603</td>\n",
       "      <td>148.800512</td>\n",
       "      <td>137.545665</td>\n",
       "    </tr>\n",
       "    <tr>\n",
       "      <th>oldpeak</th>\n",
       "      <td>1.262607</td>\n",
       "      <td>0.418205</td>\n",
       "      <td>0.878788</td>\n",
       "    </tr>\n",
       "  </tbody>\n",
       "</table>\n",
       "</div>"
      ],
      "text/plain": [
       "                 hd       no_hd        both\n",
       "thalch   128.261603  148.800512  137.545665\n",
       "oldpeak    1.262607    0.418205    0.878788"
      ]
     },
     "execution_count": 108,
     "metadata": {},
     "output_type": "execute_result"
    }
   ],
   "source": [
    "# DataFrame with mean of numerical data depend of heart disease\n",
    "mean_num_param = pd.DataFrame(data = df.query('target != 0').agg({'thalch':'mean', 'oldpeak':'mean'}),\n",
    "                              columns= ['hd'],\n",
    "                              index = ['thalch', 'oldpeak'])\n",
    "no_hd = pd.DataFrame(data = df.query('target == 0').agg({'thalch':'mean', 'oldpeak':'mean'}),\n",
    "                              columns= ['no hd'],\n",
    "                              index = ['thalch', 'oldpeak'])\n",
    "both = pd.DataFrame(data = df.agg({'thalch':'mean', 'oldpeak':'mean'}),\n",
    "                              columns= ['both'],\n",
    "                              index = ['thalch', 'oldpeak']) \n",
    "mean_num_param['no_hd'] = no_hd\n",
    "mean_num_param['both'] = both\n",
    "mean_num_param"
   ]
  },
  {
   "cell_type": "markdown",
   "id": "232c6a95",
   "metadata": {},
   "source": [
    "## Data Cleaning"
   ]
  },
  {
   "cell_type": "code",
   "execution_count": 4,
   "id": "8c551dee",
   "metadata": {},
   "outputs": [
    {
     "data": {
      "text/html": [
       "<div>\n",
       "<style scoped>\n",
       "    .dataframe tbody tr th:only-of-type {\n",
       "        vertical-align: middle;\n",
       "    }\n",
       "\n",
       "    .dataframe tbody tr th {\n",
       "        vertical-align: top;\n",
       "    }\n",
       "\n",
       "    .dataframe thead th {\n",
       "        text-align: right;\n",
       "    }\n",
       "</style>\n",
       "<table border=\"1\" class=\"dataframe\">\n",
       "  <thead>\n",
       "    <tr style=\"text-align: right;\">\n",
       "      <th></th>\n",
       "      <th>age</th>\n",
       "      <th>sex</th>\n",
       "      <th>cp</th>\n",
       "      <th>trestbps</th>\n",
       "      <th>chol</th>\n",
       "      <th>fbs</th>\n",
       "      <th>restecg</th>\n",
       "      <th>thalch</th>\n",
       "      <th>exang</th>\n",
       "      <th>oldpeak</th>\n",
       "      <th>target</th>\n",
       "    </tr>\n",
       "  </thead>\n",
       "  <tbody>\n",
       "    <tr>\n",
       "      <th>0</th>\n",
       "      <td>63</td>\n",
       "      <td>Male</td>\n",
       "      <td>typical angina</td>\n",
       "      <td>145.0</td>\n",
       "      <td>233.0</td>\n",
       "      <td>True</td>\n",
       "      <td>lv hypertrophy</td>\n",
       "      <td>150.0</td>\n",
       "      <td>False</td>\n",
       "      <td>2.3</td>\n",
       "      <td>0</td>\n",
       "    </tr>\n",
       "    <tr>\n",
       "      <th>1</th>\n",
       "      <td>67</td>\n",
       "      <td>Male</td>\n",
       "      <td>asymptomatic</td>\n",
       "      <td>160.0</td>\n",
       "      <td>286.0</td>\n",
       "      <td>False</td>\n",
       "      <td>lv hypertrophy</td>\n",
       "      <td>108.0</td>\n",
       "      <td>True</td>\n",
       "      <td>1.5</td>\n",
       "      <td>1</td>\n",
       "    </tr>\n",
       "    <tr>\n",
       "      <th>2</th>\n",
       "      <td>67</td>\n",
       "      <td>Male</td>\n",
       "      <td>asymptomatic</td>\n",
       "      <td>120.0</td>\n",
       "      <td>229.0</td>\n",
       "      <td>False</td>\n",
       "      <td>lv hypertrophy</td>\n",
       "      <td>129.0</td>\n",
       "      <td>True</td>\n",
       "      <td>2.6</td>\n",
       "      <td>1</td>\n",
       "    </tr>\n",
       "    <tr>\n",
       "      <th>3</th>\n",
       "      <td>37</td>\n",
       "      <td>Male</td>\n",
       "      <td>non-anginal</td>\n",
       "      <td>130.0</td>\n",
       "      <td>250.0</td>\n",
       "      <td>False</td>\n",
       "      <td>normal</td>\n",
       "      <td>187.0</td>\n",
       "      <td>False</td>\n",
       "      <td>3.5</td>\n",
       "      <td>0</td>\n",
       "    </tr>\n",
       "    <tr>\n",
       "      <th>4</th>\n",
       "      <td>41</td>\n",
       "      <td>Female</td>\n",
       "      <td>atypical angina</td>\n",
       "      <td>130.0</td>\n",
       "      <td>204.0</td>\n",
       "      <td>False</td>\n",
       "      <td>lv hypertrophy</td>\n",
       "      <td>172.0</td>\n",
       "      <td>False</td>\n",
       "      <td>1.4</td>\n",
       "      <td>0</td>\n",
       "    </tr>\n",
       "    <tr>\n",
       "      <th>...</th>\n",
       "      <td>...</td>\n",
       "      <td>...</td>\n",
       "      <td>...</td>\n",
       "      <td>...</td>\n",
       "      <td>...</td>\n",
       "      <td>...</td>\n",
       "      <td>...</td>\n",
       "      <td>...</td>\n",
       "      <td>...</td>\n",
       "      <td>...</td>\n",
       "      <td>...</td>\n",
       "    </tr>\n",
       "    <tr>\n",
       "      <th>915</th>\n",
       "      <td>54</td>\n",
       "      <td>Female</td>\n",
       "      <td>asymptomatic</td>\n",
       "      <td>127.0</td>\n",
       "      <td>333.0</td>\n",
       "      <td>True</td>\n",
       "      <td>st-t abnormality</td>\n",
       "      <td>154.0</td>\n",
       "      <td>False</td>\n",
       "      <td>0.0</td>\n",
       "      <td>1</td>\n",
       "    </tr>\n",
       "    <tr>\n",
       "      <th>916</th>\n",
       "      <td>62</td>\n",
       "      <td>Male</td>\n",
       "      <td>typical angina</td>\n",
       "      <td>NaN</td>\n",
       "      <td>139.0</td>\n",
       "      <td>False</td>\n",
       "      <td>st-t abnormality</td>\n",
       "      <td>NaN</td>\n",
       "      <td>NaN</td>\n",
       "      <td>NaN</td>\n",
       "      <td>0</td>\n",
       "    </tr>\n",
       "    <tr>\n",
       "      <th>917</th>\n",
       "      <td>55</td>\n",
       "      <td>Male</td>\n",
       "      <td>asymptomatic</td>\n",
       "      <td>122.0</td>\n",
       "      <td>223.0</td>\n",
       "      <td>True</td>\n",
       "      <td>st-t abnormality</td>\n",
       "      <td>100.0</td>\n",
       "      <td>False</td>\n",
       "      <td>0.0</td>\n",
       "      <td>1</td>\n",
       "    </tr>\n",
       "    <tr>\n",
       "      <th>918</th>\n",
       "      <td>58</td>\n",
       "      <td>Male</td>\n",
       "      <td>asymptomatic</td>\n",
       "      <td>NaN</td>\n",
       "      <td>385.0</td>\n",
       "      <td>True</td>\n",
       "      <td>lv hypertrophy</td>\n",
       "      <td>NaN</td>\n",
       "      <td>NaN</td>\n",
       "      <td>NaN</td>\n",
       "      <td>0</td>\n",
       "    </tr>\n",
       "    <tr>\n",
       "      <th>919</th>\n",
       "      <td>62</td>\n",
       "      <td>Male</td>\n",
       "      <td>atypical angina</td>\n",
       "      <td>120.0</td>\n",
       "      <td>254.0</td>\n",
       "      <td>False</td>\n",
       "      <td>lv hypertrophy</td>\n",
       "      <td>93.0</td>\n",
       "      <td>True</td>\n",
       "      <td>0.0</td>\n",
       "      <td>1</td>\n",
       "    </tr>\n",
       "  </tbody>\n",
       "</table>\n",
       "<p>920 rows × 11 columns</p>\n",
       "</div>"
      ],
      "text/plain": [
       "     age     sex               cp  trestbps   chol    fbs           restecg  \\\n",
       "0     63    Male   typical angina     145.0  233.0   True    lv hypertrophy   \n",
       "1     67    Male     asymptomatic     160.0  286.0  False    lv hypertrophy   \n",
       "2     67    Male     asymptomatic     120.0  229.0  False    lv hypertrophy   \n",
       "3     37    Male      non-anginal     130.0  250.0  False            normal   \n",
       "4     41  Female  atypical angina     130.0  204.0  False    lv hypertrophy   \n",
       "..   ...     ...              ...       ...    ...    ...               ...   \n",
       "915   54  Female     asymptomatic     127.0  333.0   True  st-t abnormality   \n",
       "916   62    Male   typical angina       NaN  139.0  False  st-t abnormality   \n",
       "917   55    Male     asymptomatic     122.0  223.0   True  st-t abnormality   \n",
       "918   58    Male     asymptomatic       NaN  385.0   True    lv hypertrophy   \n",
       "919   62    Male  atypical angina     120.0  254.0  False    lv hypertrophy   \n",
       "\n",
       "     thalch  exang  oldpeak  target  \n",
       "0     150.0  False      2.3       0  \n",
       "1     108.0   True      1.5       1  \n",
       "2     129.0   True      2.6       1  \n",
       "3     187.0  False      3.5       0  \n",
       "4     172.0  False      1.4       0  \n",
       "..      ...    ...      ...     ...  \n",
       "915   154.0  False      0.0       1  \n",
       "916     NaN    NaN      NaN       0  \n",
       "917   100.0  False      0.0       1  \n",
       "918     NaN    NaN      NaN       0  \n",
       "919    93.0   True      0.0       1  \n",
       "\n",
       "[920 rows x 11 columns]"
      ]
     },
     "execution_count": 4,
     "metadata": {},
     "output_type": "execute_result"
    }
   ],
   "source": [
    "# Drop useless data \n",
    "df = df.drop(['id', 'dataset'], axis=1)\n",
    "\n",
    "# Drop data witn large count of missing data\n",
    "df = df.drop(['slope', 'ca', 'thal'], axis=1)\n",
    "df"
   ]
  },
  {
   "cell_type": "code",
   "execution_count": 5,
   "id": "a34c733e",
   "metadata": {},
   "outputs": [],
   "source": [
    "# Resting blood pressure (trestbps)\n",
    "mean_trestbps = df.loc[df['trestbps']!=0,'trestbps'].mean()\n",
    "df.fillna(value={'trestbps':mean_trestbps}, inplace=True)\n",
    "df.loc[df['trestbps']==0, 'trestbps'] = mean_trestbps\n",
    "\n",
    "# Serum cholesterol (chol)\n",
    "mean_chol = df.loc[df['chol']!=0,'chol'].mean()\n",
    "df.fillna(value={'chol':mean_chol}, inplace=True)\n",
    "df.loc[df['chol']==0, 'chol'] = mean_chol\n",
    "\n",
    "# Maximum heart rate (thalch)\n",
    "mean_thalch_no_hd = df.loc[(df['target']==0),'thalch'].mean()\n",
    "mean_thalch_hd = df.loc[(df['target']!=0),'thalch'].mean()\n",
    "\n",
    "df.loc[(df['target']==0) & (df['thalch'].isna()),'thalch'] = mean_thalch_no_hd\n",
    "df.loc[(df['target']!=0) & (df['thalch'].isna()),'thalch'] = mean_thalch_hd\n",
    "\n",
    "# ST depression induced by exercise relative to rest (oldpeak)\n",
    "mean_oldpeak_no_hd = df.loc[(df['target']==0),'oldpeak'].mean()\n",
    "mean_oldpeak_hd = df.loc[(df['target']!=0),'oldpeak'].mean()\n",
    "\n",
    "df.loc[(df['target']==0) & (df['oldpeak'].isna()),'oldpeak'] = mean_oldpeak_no_hd\n",
    "df.loc[(df['target']!=0) & (df['oldpeak'].isna()),'oldpeak'] = mean_oldpeak_hd\n",
    "\n",
    "# Fasting blood sugar > 120 mg/dl (True/ False) (fbs)\n",
    "df.fillna(value={'fbs':False}, inplace=True)\n",
    "\n",
    "# Exercise-induced angina (True/ False) (exang)\n",
    "df.fillna(value={'exang':False}, inplace=True)\n",
    "\n",
    "# Drop remaining rows with missing values\n",
    "df.dropna(inplace=True)"
   ]
  },
  {
   "cell_type": "code",
   "execution_count": 6,
   "id": "2ce6019a",
   "metadata": {},
   "outputs": [
    {
     "data": {
      "text/plain": [
       "age         0\n",
       "sex         0\n",
       "cp          0\n",
       "trestbps    0\n",
       "chol        0\n",
       "fbs         0\n",
       "restecg     0\n",
       "thalch      0\n",
       "exang       0\n",
       "oldpeak     0\n",
       "target      0\n",
       "dtype: int64"
      ]
     },
     "execution_count": 6,
     "metadata": {},
     "output_type": "execute_result"
    }
   ],
   "source": [
    "df.isna().sum()"
   ]
  },
  {
   "cell_type": "markdown",
   "id": "5dcd513f",
   "metadata": {},
   "source": [
    "`cp` chest pain type \n",
    "\n",
    "        * typical angina (consists of (1) Substernal chest pain or discomfort that is (2) Provoked by exertion or emotional stress and (3) relieved by rest or nitroglycerine (or both))\n",
    "        * atypical angina (applies when 2 out of 3 criteria of classic angina are present)\n",
    "        * non-anginal \n",
    "        * asymptomatic (If ≤ 1 of the criteria of classic angina is present, symptoms are classified as non-specific)\n",
    "\n",
    "`restecg` (resting electrocardiographic results)\n",
    "\n",
    "        * normal stt\n",
    "        * abnormality\n",
    "        * lv hypertrophy"
   ]
  },
  {
   "cell_type": "code",
   "execution_count": 117,
   "id": "fd49cfae",
   "metadata": {},
   "outputs": [
    {
     "data": {
      "text/plain": [
       "normal              551\n",
       "lv hypertrophy      188\n",
       "st-t abnormality    179\n",
       "Name: restecg, dtype: int64"
      ]
     },
     "execution_count": 117,
     "metadata": {},
     "output_type": "execute_result"
    }
   ],
   "source": [
    "df['restecg'].value_counts()"
   ]
  },
  {
   "cell_type": "code",
   "execution_count": 118,
   "id": "15ea5a50",
   "metadata": {},
   "outputs": [
    {
     "data": {
      "text/plain": [
       "asymptomatic       495\n",
       "non-anginal        204\n",
       "atypical angina    174\n",
       "typical angina      45\n",
       "Name: cp, dtype: int64"
      ]
     },
     "execution_count": 118,
     "metadata": {},
     "output_type": "execute_result"
    }
   ],
   "source": [
    "df['cp'].value_counts()"
   ]
  },
  {
   "cell_type": "code",
   "execution_count": 7,
   "id": "07aaa8af",
   "metadata": {},
   "outputs": [],
   "source": [
    "# for identifying simply the presence of disease, we will take binary classification\n",
    "df['sex'] = df['sex'].map({'Female':0, 'Male': 1})\n",
    "df['fbs'] = df['fbs'].map({True:1, False: 0})\n",
    "df['exang'] = df['exang'].map({True:1, False: 0})\n",
    "df['restecg'] = df['restecg'].map({'normal':0, 'lv hypertrophy': 1, 'st-t abnormality': 2})\n",
    "\n",
    "df = pd.get_dummies(df, columns=['cp'])\n"
   ]
  },
  {
   "cell_type": "markdown",
   "id": "f48ba84e",
   "metadata": {},
   "source": [
    "### Display correlation matrix and heatmap"
   ]
  },
  {
   "cell_type": "code",
   "execution_count": 124,
   "id": "a41e760c",
   "metadata": {},
   "outputs": [
    {
     "data": {
      "image/png": "[encoded data removed]",
      "text/plain": [
       "<Figure size 432x288 with 2 Axes>"
      ]
     },
     "metadata": {
      "needs_background": "light"
     },
     "output_type": "display_data"
    }
   ],
   "source": [
    "corr = df.corr()\n",
    "sns.heatmap(corr, annot=True, fmt= '.2f',annot_kws={'size': 5}, cmap= 'coolwarm')\n",
    "plt.show()"
   ]
  },
  {
   "cell_type": "code",
   "execution_count": 8,
   "id": "aa036a8c",
   "metadata": {},
   "outputs": [
    {
     "data": {
      "text/html": [
       "<div>\n",
       "<style scoped>\n",
       "    .dataframe tbody tr th:only-of-type {\n",
       "        vertical-align: middle;\n",
       "    }\n",
       "\n",
       "    .dataframe tbody tr th {\n",
       "        vertical-align: top;\n",
       "    }\n",
       "\n",
       "    .dataframe thead th {\n",
       "        text-align: right;\n",
       "    }\n",
       "</style>\n",
       "<table border=\"1\" class=\"dataframe\">\n",
       "  <thead>\n",
       "    <tr style=\"text-align: right;\">\n",
       "      <th></th>\n",
       "      <th>age</th>\n",
       "      <th>sex</th>\n",
       "      <th>trestbps</th>\n",
       "      <th>chol</th>\n",
       "      <th>fbs</th>\n",
       "      <th>restecg</th>\n",
       "      <th>thalch</th>\n",
       "      <th>exang</th>\n",
       "      <th>oldpeak</th>\n",
       "      <th>target</th>\n",
       "      <th>cp_asymptomatic</th>\n",
       "      <th>cp_atypical angina</th>\n",
       "      <th>cp_non-anginal</th>\n",
       "      <th>cp_typical angina</th>\n",
       "    </tr>\n",
       "  </thead>\n",
       "  <tbody>\n",
       "    <tr>\n",
       "      <th>0</th>\n",
       "      <td>63</td>\n",
       "      <td>1</td>\n",
       "      <td>145.000000</td>\n",
       "      <td>233.0</td>\n",
       "      <td>1</td>\n",
       "      <td>1</td>\n",
       "      <td>150.000000</td>\n",
       "      <td>0</td>\n",
       "      <td>2.300000</td>\n",
       "      <td>0</td>\n",
       "      <td>0</td>\n",
       "      <td>0</td>\n",
       "      <td>0</td>\n",
       "      <td>1</td>\n",
       "    </tr>\n",
       "    <tr>\n",
       "      <th>1</th>\n",
       "      <td>67</td>\n",
       "      <td>1</td>\n",
       "      <td>160.000000</td>\n",
       "      <td>286.0</td>\n",
       "      <td>0</td>\n",
       "      <td>1</td>\n",
       "      <td>108.000000</td>\n",
       "      <td>1</td>\n",
       "      <td>1.500000</td>\n",
       "      <td>1</td>\n",
       "      <td>1</td>\n",
       "      <td>0</td>\n",
       "      <td>0</td>\n",
       "      <td>0</td>\n",
       "    </tr>\n",
       "    <tr>\n",
       "      <th>2</th>\n",
       "      <td>67</td>\n",
       "      <td>1</td>\n",
       "      <td>120.000000</td>\n",
       "      <td>229.0</td>\n",
       "      <td>0</td>\n",
       "      <td>1</td>\n",
       "      <td>129.000000</td>\n",
       "      <td>1</td>\n",
       "      <td>2.600000</td>\n",
       "      <td>1</td>\n",
       "      <td>1</td>\n",
       "      <td>0</td>\n",
       "      <td>0</td>\n",
       "      <td>0</td>\n",
       "    </tr>\n",
       "    <tr>\n",
       "      <th>3</th>\n",
       "      <td>37</td>\n",
       "      <td>1</td>\n",
       "      <td>130.000000</td>\n",
       "      <td>250.0</td>\n",
       "      <td>0</td>\n",
       "      <td>0</td>\n",
       "      <td>187.000000</td>\n",
       "      <td>0</td>\n",
       "      <td>3.500000</td>\n",
       "      <td>0</td>\n",
       "      <td>0</td>\n",
       "      <td>0</td>\n",
       "      <td>1</td>\n",
       "      <td>0</td>\n",
       "    </tr>\n",
       "    <tr>\n",
       "      <th>4</th>\n",
       "      <td>41</td>\n",
       "      <td>0</td>\n",
       "      <td>130.000000</td>\n",
       "      <td>204.0</td>\n",
       "      <td>0</td>\n",
       "      <td>1</td>\n",
       "      <td>172.000000</td>\n",
       "      <td>0</td>\n",
       "      <td>1.400000</td>\n",
       "      <td>0</td>\n",
       "      <td>0</td>\n",
       "      <td>1</td>\n",
       "      <td>0</td>\n",
       "      <td>0</td>\n",
       "    </tr>\n",
       "    <tr>\n",
       "      <th>...</th>\n",
       "      <td>...</td>\n",
       "      <td>...</td>\n",
       "      <td>...</td>\n",
       "      <td>...</td>\n",
       "      <td>...</td>\n",
       "      <td>...</td>\n",
       "      <td>...</td>\n",
       "      <td>...</td>\n",
       "      <td>...</td>\n",
       "      <td>...</td>\n",
       "      <td>...</td>\n",
       "      <td>...</td>\n",
       "      <td>...</td>\n",
       "      <td>...</td>\n",
       "    </tr>\n",
       "    <tr>\n",
       "      <th>915</th>\n",
       "      <td>54</td>\n",
       "      <td>0</td>\n",
       "      <td>127.000000</td>\n",
       "      <td>333.0</td>\n",
       "      <td>1</td>\n",
       "      <td>2</td>\n",
       "      <td>154.000000</td>\n",
       "      <td>0</td>\n",
       "      <td>0.000000</td>\n",
       "      <td>1</td>\n",
       "      <td>1</td>\n",
       "      <td>0</td>\n",
       "      <td>0</td>\n",
       "      <td>0</td>\n",
       "    </tr>\n",
       "    <tr>\n",
       "      <th>916</th>\n",
       "      <td>62</td>\n",
       "      <td>1</td>\n",
       "      <td>132.286047</td>\n",
       "      <td>139.0</td>\n",
       "      <td>0</td>\n",
       "      <td>2</td>\n",
       "      <td>148.800512</td>\n",
       "      <td>0</td>\n",
       "      <td>0.418205</td>\n",
       "      <td>0</td>\n",
       "      <td>0</td>\n",
       "      <td>0</td>\n",
       "      <td>0</td>\n",
       "      <td>1</td>\n",
       "    </tr>\n",
       "    <tr>\n",
       "      <th>917</th>\n",
       "      <td>55</td>\n",
       "      <td>1</td>\n",
       "      <td>122.000000</td>\n",
       "      <td>223.0</td>\n",
       "      <td>1</td>\n",
       "      <td>2</td>\n",
       "      <td>100.000000</td>\n",
       "      <td>0</td>\n",
       "      <td>0.000000</td>\n",
       "      <td>1</td>\n",
       "      <td>1</td>\n",
       "      <td>0</td>\n",
       "      <td>0</td>\n",
       "      <td>0</td>\n",
       "    </tr>\n",
       "    <tr>\n",
       "      <th>918</th>\n",
       "      <td>58</td>\n",
       "      <td>1</td>\n",
       "      <td>132.286047</td>\n",
       "      <td>385.0</td>\n",
       "      <td>1</td>\n",
       "      <td>1</td>\n",
       "      <td>148.800512</td>\n",
       "      <td>0</td>\n",
       "      <td>0.418205</td>\n",
       "      <td>0</td>\n",
       "      <td>1</td>\n",
       "      <td>0</td>\n",
       "      <td>0</td>\n",
       "      <td>0</td>\n",
       "    </tr>\n",
       "    <tr>\n",
       "      <th>919</th>\n",
       "      <td>62</td>\n",
       "      <td>1</td>\n",
       "      <td>120.000000</td>\n",
       "      <td>254.0</td>\n",
       "      <td>0</td>\n",
       "      <td>1</td>\n",
       "      <td>93.000000</td>\n",
       "      <td>1</td>\n",
       "      <td>0.000000</td>\n",
       "      <td>1</td>\n",
       "      <td>0</td>\n",
       "      <td>1</td>\n",
       "      <td>0</td>\n",
       "      <td>0</td>\n",
       "    </tr>\n",
       "  </tbody>\n",
       "</table>\n",
       "<p>918 rows × 14 columns</p>\n",
       "</div>"
      ],
      "text/plain": [
       "     age  sex    trestbps   chol  fbs  restecg      thalch  exang   oldpeak  \\\n",
       "0     63    1  145.000000  233.0    1        1  150.000000      0  2.300000   \n",
       "1     67    1  160.000000  286.0    0        1  108.000000      1  1.500000   \n",
       "2     67    1  120.000000  229.0    0        1  129.000000      1  2.600000   \n",
       "3     37    1  130.000000  250.0    0        0  187.000000      0  3.500000   \n",
       "4     41    0  130.000000  204.0    0        1  172.000000      0  1.400000   \n",
       "..   ...  ...         ...    ...  ...      ...         ...    ...       ...   \n",
       "915   54    0  127.000000  333.0    1        2  154.000000      0  0.000000   \n",
       "916   62    1  132.286047  139.0    0        2  148.800512      0  0.418205   \n",
       "917   55    1  122.000000  223.0    1        2  100.000000      0  0.000000   \n",
       "918   58    1  132.286047  385.0    1        1  148.800512      0  0.418205   \n",
       "919   62    1  120.000000  254.0    0        1   93.000000      1  0.000000   \n",
       "\n",
       "     target  cp_asymptomatic  cp_atypical angina  cp_non-anginal  \\\n",
       "0         0                0                   0               0   \n",
       "1         1                1                   0               0   \n",
       "2         1                1                   0               0   \n",
       "3         0                0                   0               1   \n",
       "4         0                0                   1               0   \n",
       "..      ...              ...                 ...             ...   \n",
       "915       1                1                   0               0   \n",
       "916       0                0                   0               0   \n",
       "917       1                1                   0               0   \n",
       "918       0                1                   0               0   \n",
       "919       1                0                   1               0   \n",
       "\n",
       "     cp_typical angina  \n",
       "0                    1  \n",
       "1                    0  \n",
       "2                    0  \n",
       "3                    0  \n",
       "4                    0  \n",
       "..                 ...  \n",
       "915                  0  \n",
       "916                  1  \n",
       "917                  0  \n",
       "918                  0  \n",
       "919                  0  \n",
       "\n",
       "[918 rows x 14 columns]"
      ]
     },
     "execution_count": 8,
     "metadata": {},
     "output_type": "execute_result"
    }
   ],
   "source": [
    "df\n"
   ]
  },
  {
   "cell_type": "markdown",
   "id": "511bf440",
   "metadata": {},
   "source": [
    "## 4. Modelling"
   ]
  },
  {
   "cell_type": "code",
   "execution_count": 9,
   "id": "fa179365",
   "metadata": {},
   "outputs": [],
   "source": [
    "# Split into X and y\n",
    "np.random.seed(42)\n",
    "X = df.drop('target', axis=1)\n",
    "y = df['target']\n",
    "\n",
    "\n",
    "# Split into train and test sets\n",
    "X_train, X_test, y_train, y_test = train_test_split(X, y, test_size=0.2)"
   ]
  },
  {
   "cell_type": "markdown",
   "id": "2ff8db19",
   "metadata": {},
   "source": [
    "We're going to try different ML models:\n",
    "\n",
    "    1. Logistic Regression\n",
    "    2. K-Nearest Neighbours Classifier\n",
    "    3. Random Forest Classifier\n",
    "    4. LinearSVC\n",
    "    5. SVC"
   ]
  },
  {
   "cell_type": "code",
   "execution_count": 10,
   "id": "147ecb3d",
   "metadata": {},
   "outputs": [
    {
     "name": "stdout",
     "output_type": "stream",
     "text": [
      "Fitting SVC_linear...\n",
      "Scoring SVC_linear...\n",
      "Fitting KNeighborsClassifier...\n",
      "Scoring KNeighborsClassifier...\n",
      "Fitting SVC_rbf...\n",
      "Scoring SVC_rbf...\n",
      "Fitting RandomForestClassifier...\n"
     ]
    },
    {
     "name": "stderr",
     "output_type": "stream",
     "text": [
      "C:\\Users\\ASUS\\anaconda3\\lib\\site-packages\\sklearn\\svm\\_base.py:1206: ConvergenceWarning: Liblinear failed to converge, increase the number of iterations.\n",
      "  warnings.warn(\n"
     ]
    },
    {
     "name": "stdout",
     "output_type": "stream",
     "text": [
      "Scoring RandomForestClassifier...\n",
      "Fitting LogisticRegression...\n",
      "Scoring LogisticRegression...\n"
     ]
    },
    {
     "name": "stderr",
     "output_type": "stream",
     "text": [
      "C:\\Users\\ASUS\\anaconda3\\lib\\site-packages\\sklearn\\linear_model\\_logistic.py:814: ConvergenceWarning: lbfgs failed to converge (status=1):\n",
      "STOP: TOTAL NO. of ITERATIONS REACHED LIMIT.\n",
      "\n",
      "Increase the number of iterations (max_iter) or scale the data as shown in:\n",
      "    https://scikit-learn.org/stable/modules/preprocessing.html\n",
      "Please also refer to the documentation for alternative solver options:\n",
      "    https://scikit-learn.org/stable/modules/linear_model.html#logistic-regression\n",
      "  n_iter_i = _check_optimize_result(\n"
     ]
    },
    {
     "data": {
      "text/plain": [
       "{'SVC_linear': 0.6847826086956522,\n",
       " 'KNeighborsClassifier': 0.6467391304347826,\n",
       " 'SVC_rbf': 0.6684782608695652,\n",
       " 'RandomForestClassifier': 0.7989130434782609,\n",
       " 'LogisticRegression': 0.7989130434782609}"
      ]
     },
     "execution_count": 10,
     "metadata": {},
     "output_type": "execute_result"
    }
   ],
   "source": [
    "np.random.seed(42)\n",
    "\n",
    "clf_models = {'SVC_linear' : LinearSVC(),\n",
    "              'KNeighborsClassifier': KNeighborsClassifier(),\n",
    "              'SVC_rbf': SVC(),\n",
    "              'RandomForestClassifier': RandomForestClassifier(),\n",
    "              'LogisticRegression': LogisticRegression()}\n",
    "\n",
    "clf_results = {}\n",
    "for model_name, clf in clf_models.items():\n",
    "    \n",
    "    print(f'Fitting {model_name}...')\n",
    "    clf.fit(X_train, y_train)\n",
    "       \n",
    "    print(f'Scoring {model_name}...')\n",
    "    clf_results[model_name] = clf.score(X_test, y_test)\n",
    "            \n",
    "clf_results"
   ]
  },
  {
   "cell_type": "markdown",
   "id": "7fd8bb12",
   "metadata": {},
   "source": [
    "Let's look at the following:\n",
    "* Hyperparameter tuning\n",
    "* Feature importance\n",
    "* Confusion matrix\n",
    "* Cross-validation\n",
    "* Precision\n",
    "* Recall\n",
    "* F1 score\n",
    "* Classification report\n",
    "* ROC curve\n",
    "* Area under the curve (AUC)\n",
    "\n",
    "### Hyperparameter tuning"
   ]
  },
  {
   "cell_type": "code",
   "execution_count": 11,
   "id": "16e4f350",
   "metadata": {},
   "outputs": [],
   "source": [
    "# KNN tuning\n",
    "\n",
    "clf_knn = KNeighborsClassifier()\n",
    "\n",
    "neighbors = range(1,21)\n",
    "\n",
    "knn_score = []\n",
    "for i in neighbors:\n",
    "    clf_knn.set_params(n_neighbors=i)\n",
    "    clf_knn.fit(X_train, y_train)\n",
    "    knn_score.append(clf_knn.score(X_test, y_test))\n",
    "    "
   ]
  },
  {
   "cell_type": "code",
   "execution_count": 12,
   "id": "789aaf56",
   "metadata": {},
   "outputs": [
    {
     "name": "stdout",
     "output_type": "stream",
     "text": [
      "Maximal model score 66.85%\n"
     ]
    },
    {
     "data": {
      "image/png": "[encoded data removed]",
      "text/plain": [
       "<Figure size 432x288 with 1 Axes>"
      ]
     },
     "metadata": {
      "needs_background": "light"
     },
     "output_type": "display_data"
    }
   ],
   "source": [
    "plt.plot(neighbors, knn_score)\n",
    "plt.xticks(np.arange(1, 21, 1))\n",
    "plt.xlabel('Number of neighbors')\n",
    "plt.ylabel('Score')\n",
    "\n",
    "print(f'Maximal model score {max(knn_score)*100:.2f}%')"
   ]
  },
  {
   "cell_type": "code",
   "execution_count": 13,
   "id": "12acd4c0",
   "metadata": {},
   "outputs": [
    {
     "name": "stdout",
     "output_type": "stream",
     "text": [
      "Fitting 5 folds for each of 10 candidates, totalling 50 fits\n",
      "[CV] END ..................C=0.615848211066026, solver=lbfgs; total time=   0.0s\n",
      "[CV] END ..................C=0.615848211066026, solver=lbfgs; total time=   0.0s\n",
      "[CV] END ..................C=0.615848211066026, solver=lbfgs; total time=   0.0s\n"
     ]
    },
    {
     "name": "stderr",
     "output_type": "stream",
     "text": [
      "C:\\Users\\ASUS\\anaconda3\\lib\\site-packages\\sklearn\\linear_model\\_logistic.py:814: ConvergenceWarning: lbfgs failed to converge (status=1):\n",
      "STOP: TOTAL NO. of ITERATIONS REACHED LIMIT.\n",
      "\n",
      "Increase the number of iterations (max_iter) or scale the data as shown in:\n",
      "    https://scikit-learn.org/stable/modules/preprocessing.html\n",
      "Please also refer to the documentation for alternative solver options:\n",
      "    https://scikit-learn.org/stable/modules/linear_model.html#logistic-regression\n",
      "  n_iter_i = _check_optimize_result(\n",
      "C:\\Users\\ASUS\\anaconda3\\lib\\site-packages\\sklearn\\linear_model\\_logistic.py:814: ConvergenceWarning: lbfgs failed to converge (status=1):\n",
      "STOP: TOTAL NO. of ITERATIONS REACHED LIMIT.\n",
      "\n",
      "Increase the number of iterations (max_iter) or scale the data as shown in:\n",
      "    https://scikit-learn.org/stable/modules/preprocessing.html\n",
      "Please also refer to the documentation for alternative solver options:\n",
      "    https://scikit-learn.org/stable/modules/linear_model.html#logistic-regression\n",
      "  n_iter_i = _check_optimize_result(\n",
      "C:\\Users\\ASUS\\anaconda3\\lib\\site-packages\\sklearn\\linear_model\\_logistic.py:814: ConvergenceWarning: lbfgs failed to converge (status=1):\n",
      "STOP: TOTAL NO. of ITERATIONS REACHED LIMIT.\n",
      "\n",
      "Increase the number of iterations (max_iter) or scale the data as shown in:\n",
      "    https://scikit-learn.org/stable/modules/preprocessing.html\n",
      "Please also refer to the documentation for alternative solver options:\n",
      "    https://scikit-learn.org/stable/modules/linear_model.html#logistic-regression\n",
      "  n_iter_i = _check_optimize_result(\n",
      "C:\\Users\\ASUS\\anaconda3\\lib\\site-packages\\sklearn\\linear_model\\_logistic.py:814: ConvergenceWarning: lbfgs failed to converge (status=1):\n",
      "STOP: TOTAL NO. of ITERATIONS REACHED LIMIT.\n",
      "\n",
      "Increase the number of iterations (max_iter) or scale the data as shown in:\n",
      "    https://scikit-learn.org/stable/modules/preprocessing.html\n",
      "Please also refer to the documentation for alternative solver options:\n",
      "    https://scikit-learn.org/stable/modules/linear_model.html#logistic-regression\n",
      "  n_iter_i = _check_optimize_result(\n"
     ]
    },
    {
     "name": "stdout",
     "output_type": "stream",
     "text": [
      "[CV] END ..................C=0.615848211066026, solver=lbfgs; total time=   0.0s\n",
      "[CV] END ..................C=0.615848211066026, solver=lbfgs; total time=   0.0s\n",
      "[CV] END ............C=0.23357214690901212, solver=liblinear; total time=   0.0s\n",
      "[CV] END ............C=0.23357214690901212, solver=liblinear; total time=   0.0s\n",
      "[CV] END ............C=0.23357214690901212, solver=liblinear; total time=   0.0s\n",
      "[CV] END ............C=0.23357214690901212, solver=liblinear; total time=   0.0s\n",
      "[CV] END ............C=0.23357214690901212, solver=liblinear; total time=   0.0s\n",
      "[CV] END ................C=0.08858667904100823, solver=lbfgs; total time=   0.0s\n"
     ]
    },
    {
     "name": "stderr",
     "output_type": "stream",
     "text": [
      "C:\\Users\\ASUS\\anaconda3\\lib\\site-packages\\sklearn\\linear_model\\_logistic.py:814: ConvergenceWarning: lbfgs failed to converge (status=1):\n",
      "STOP: TOTAL NO. of ITERATIONS REACHED LIMIT.\n",
      "\n",
      "Increase the number of iterations (max_iter) or scale the data as shown in:\n",
      "    https://scikit-learn.org/stable/modules/preprocessing.html\n",
      "Please also refer to the documentation for alternative solver options:\n",
      "    https://scikit-learn.org/stable/modules/linear_model.html#logistic-regression\n",
      "  n_iter_i = _check_optimize_result(\n",
      "C:\\Users\\ASUS\\anaconda3\\lib\\site-packages\\sklearn\\linear_model\\_logistic.py:814: ConvergenceWarning: lbfgs failed to converge (status=1):\n",
      "STOP: TOTAL NO. of ITERATIONS REACHED LIMIT.\n",
      "\n",
      "Increase the number of iterations (max_iter) or scale the data as shown in:\n",
      "    https://scikit-learn.org/stable/modules/preprocessing.html\n",
      "Please also refer to the documentation for alternative solver options:\n",
      "    https://scikit-learn.org/stable/modules/linear_model.html#logistic-regression\n",
      "  n_iter_i = _check_optimize_result(\n",
      "C:\\Users\\ASUS\\anaconda3\\lib\\site-packages\\sklearn\\linear_model\\_logistic.py:814: ConvergenceWarning: lbfgs failed to converge (status=1):\n",
      "STOP: TOTAL NO. of ITERATIONS REACHED LIMIT.\n",
      "\n",
      "Increase the number of iterations (max_iter) or scale the data as shown in:\n",
      "    https://scikit-learn.org/stable/modules/preprocessing.html\n",
      "Please also refer to the documentation for alternative solver options:\n",
      "    https://scikit-learn.org/stable/modules/linear_model.html#logistic-regression\n",
      "  n_iter_i = _check_optimize_result(\n"
     ]
    },
    {
     "name": "stdout",
     "output_type": "stream",
     "text": [
      "[CV] END ................C=0.08858667904100823, solver=lbfgs; total time=   0.0s\n",
      "[CV] END ................C=0.08858667904100823, solver=lbfgs; total time=   0.0s\n",
      "[CV] END ................C=0.08858667904100823, solver=lbfgs; total time=   0.0s\n",
      "[CV] END ................C=0.08858667904100823, solver=lbfgs; total time=   0.0s\n",
      "[CV] END .............C=29.763514416313132, solver=liblinear; total time=   0.0s\n",
      "[CV] END .............C=29.763514416313132, solver=liblinear; total time=   0.0s\n"
     ]
    },
    {
     "name": "stderr",
     "output_type": "stream",
     "text": [
      "C:\\Users\\ASUS\\anaconda3\\lib\\site-packages\\sklearn\\linear_model\\_logistic.py:814: ConvergenceWarning: lbfgs failed to converge (status=1):\n",
      "STOP: TOTAL NO. of ITERATIONS REACHED LIMIT.\n",
      "\n",
      "Increase the number of iterations (max_iter) or scale the data as shown in:\n",
      "    https://scikit-learn.org/stable/modules/preprocessing.html\n",
      "Please also refer to the documentation for alternative solver options:\n",
      "    https://scikit-learn.org/stable/modules/linear_model.html#logistic-regression\n",
      "  n_iter_i = _check_optimize_result(\n",
      "C:\\Users\\ASUS\\anaconda3\\lib\\site-packages\\sklearn\\linear_model\\_logistic.py:814: ConvergenceWarning: lbfgs failed to converge (status=1):\n",
      "STOP: TOTAL NO. of ITERATIONS REACHED LIMIT.\n",
      "\n",
      "Increase the number of iterations (max_iter) or scale the data as shown in:\n",
      "    https://scikit-learn.org/stable/modules/preprocessing.html\n",
      "Please also refer to the documentation for alternative solver options:\n",
      "    https://scikit-learn.org/stable/modules/linear_model.html#logistic-regression\n",
      "  n_iter_i = _check_optimize_result(\n",
      "C:\\Users\\ASUS\\anaconda3\\lib\\site-packages\\sklearn\\linear_model\\_logistic.py:814: ConvergenceWarning: lbfgs failed to converge (status=1):\n",
      "STOP: TOTAL NO. of ITERATIONS REACHED LIMIT.\n",
      "\n",
      "Increase the number of iterations (max_iter) or scale the data as shown in:\n",
      "    https://scikit-learn.org/stable/modules/preprocessing.html\n",
      "Please also refer to the documentation for alternative solver options:\n",
      "    https://scikit-learn.org/stable/modules/linear_model.html#logistic-regression\n",
      "  n_iter_i = _check_optimize_result(\n"
     ]
    },
    {
     "name": "stdout",
     "output_type": "stream",
     "text": [
      "[CV] END .............C=29.763514416313132, solver=liblinear; total time=   0.0s\n",
      "[CV] END .............C=29.763514416313132, solver=liblinear; total time=   0.0s\n",
      "[CV] END .............C=29.763514416313132, solver=liblinear; total time=   0.0s\n",
      "[CV] END ..........C=0.0006951927961775605, solver=liblinear; total time=   0.0s\n",
      "[CV] END ..........C=0.0006951927961775605, solver=liblinear; total time=   0.0s\n",
      "[CV] END ..........C=0.0006951927961775605, solver=liblinear; total time=   0.0s\n",
      "[CV] END ..........C=0.0006951927961775605, solver=liblinear; total time=   0.0s\n",
      "[CV] END ..........C=0.0006951927961775605, solver=liblinear; total time=   0.0s\n",
      "[CV] END ............C=0.03359818286283781, solver=liblinear; total time=   0.0s\n",
      "[CV] END ............C=0.03359818286283781, solver=liblinear; total time=   0.0s\n",
      "[CV] END ............C=0.03359818286283781, solver=liblinear; total time=   0.0s\n",
      "[CV] END ............C=0.03359818286283781, solver=liblinear; total time=   0.0s\n",
      "[CV] END ............C=0.03359818286283781, solver=liblinear; total time=   0.0s\n"
     ]
    },
    {
     "name": "stderr",
     "output_type": "stream",
     "text": [
      "C:\\Users\\ASUS\\anaconda3\\lib\\site-packages\\sklearn\\linear_model\\_logistic.py:814: ConvergenceWarning: lbfgs failed to converge (status=1):\n",
      "STOP: TOTAL NO. of ITERATIONS REACHED LIMIT.\n",
      "\n",
      "Increase the number of iterations (max_iter) or scale the data as shown in:\n",
      "    https://scikit-learn.org/stable/modules/preprocessing.html\n",
      "Please also refer to the documentation for alternative solver options:\n",
      "    https://scikit-learn.org/stable/modules/linear_model.html#logistic-regression\n",
      "  n_iter_i = _check_optimize_result(\n",
      "C:\\Users\\ASUS\\anaconda3\\lib\\site-packages\\sklearn\\linear_model\\_logistic.py:814: ConvergenceWarning: lbfgs failed to converge (status=1):\n",
      "STOP: TOTAL NO. of ITERATIONS REACHED LIMIT.\n",
      "\n",
      "Increase the number of iterations (max_iter) or scale the data as shown in:\n",
      "    https://scikit-learn.org/stable/modules/preprocessing.html\n",
      "Please also refer to the documentation for alternative solver options:\n",
      "    https://scikit-learn.org/stable/modules/linear_model.html#logistic-regression\n",
      "  n_iter_i = _check_optimize_result(\n",
      "C:\\Users\\ASUS\\anaconda3\\lib\\site-packages\\sklearn\\linear_model\\_logistic.py:814: ConvergenceWarning: lbfgs failed to converge (status=1):\n",
      "STOP: TOTAL NO. of ITERATIONS REACHED LIMIT.\n",
      "\n",
      "Increase the number of iterations (max_iter) or scale the data as shown in:\n",
      "    https://scikit-learn.org/stable/modules/preprocessing.html\n",
      "Please also refer to the documentation for alternative solver options:\n",
      "    https://scikit-learn.org/stable/modules/linear_model.html#logistic-regression\n",
      "  n_iter_i = _check_optimize_result(\n",
      "C:\\Users\\ASUS\\anaconda3\\lib\\site-packages\\sklearn\\linear_model\\_logistic.py:814: ConvergenceWarning: lbfgs failed to converge (status=1):\n",
      "STOP: TOTAL NO. of ITERATIONS REACHED LIMIT.\n",
      "\n",
      "Increase the number of iterations (max_iter) or scale the data as shown in:\n",
      "    https://scikit-learn.org/stable/modules/preprocessing.html\n",
      "Please also refer to the documentation for alternative solver options:\n",
      "    https://scikit-learn.org/stable/modules/linear_model.html#logistic-regression\n",
      "  n_iter_i = _check_optimize_result(\n"
     ]
    },
    {
     "name": "stdout",
     "output_type": "stream",
     "text": [
      "[CV] END ..................C=3792.690190732246, solver=lbfgs; total time=   0.0s\n",
      "[CV] END ..................C=3792.690190732246, solver=lbfgs; total time=   0.0s\n",
      "[CV] END ..................C=3792.690190732246, solver=lbfgs; total time=   0.0s\n",
      "[CV] END ..................C=3792.690190732246, solver=lbfgs; total time=   0.0s\n"
     ]
    },
    {
     "name": "stderr",
     "output_type": "stream",
     "text": [
      "C:\\Users\\ASUS\\anaconda3\\lib\\site-packages\\sklearn\\linear_model\\_logistic.py:814: ConvergenceWarning: lbfgs failed to converge (status=1):\n",
      "STOP: TOTAL NO. of ITERATIONS REACHED LIMIT.\n",
      "\n",
      "Increase the number of iterations (max_iter) or scale the data as shown in:\n",
      "    https://scikit-learn.org/stable/modules/preprocessing.html\n",
      "Please also refer to the documentation for alternative solver options:\n",
      "    https://scikit-learn.org/stable/modules/linear_model.html#logistic-regression\n",
      "  n_iter_i = _check_optimize_result(\n",
      "C:\\Users\\ASUS\\anaconda3\\lib\\site-packages\\sklearn\\linear_model\\_logistic.py:814: ConvergenceWarning: lbfgs failed to converge (status=1):\n",
      "STOP: TOTAL NO. of ITERATIONS REACHED LIMIT.\n",
      "\n",
      "Increase the number of iterations (max_iter) or scale the data as shown in:\n",
      "    https://scikit-learn.org/stable/modules/preprocessing.html\n",
      "Please also refer to the documentation for alternative solver options:\n",
      "    https://scikit-learn.org/stable/modules/linear_model.html#logistic-regression\n",
      "  n_iter_i = _check_optimize_result(\n",
      "C:\\Users\\ASUS\\anaconda3\\lib\\site-packages\\sklearn\\linear_model\\_logistic.py:814: ConvergenceWarning: lbfgs failed to converge (status=1):\n",
      "STOP: TOTAL NO. of ITERATIONS REACHED LIMIT.\n",
      "\n",
      "Increase the number of iterations (max_iter) or scale the data as shown in:\n",
      "    https://scikit-learn.org/stable/modules/preprocessing.html\n",
      "Please also refer to the documentation for alternative solver options:\n",
      "    https://scikit-learn.org/stable/modules/linear_model.html#logistic-regression\n",
      "  n_iter_i = _check_optimize_result(\n",
      "C:\\Users\\ASUS\\anaconda3\\lib\\site-packages\\sklearn\\linear_model\\_logistic.py:814: ConvergenceWarning: lbfgs failed to converge (status=1):\n",
      "STOP: TOTAL NO. of ITERATIONS REACHED LIMIT.\n",
      "\n",
      "Increase the number of iterations (max_iter) or scale the data as shown in:\n",
      "    https://scikit-learn.org/stable/modules/preprocessing.html\n",
      "Please also refer to the documentation for alternative solver options:\n",
      "    https://scikit-learn.org/stable/modules/linear_model.html#logistic-regression\n",
      "  n_iter_i = _check_optimize_result(\n"
     ]
    },
    {
     "name": "stdout",
     "output_type": "stream",
     "text": [
      "[CV] END ..................C=3792.690190732246, solver=lbfgs; total time=   0.0s\n",
      "[CV] END .................C=29.763514416313132, solver=lbfgs; total time=   0.0s\n",
      "[CV] END .................C=29.763514416313132, solver=lbfgs; total time=   0.0s\n",
      "[CV] END .................C=29.763514416313132, solver=lbfgs; total time=   0.0s\n"
     ]
    },
    {
     "name": "stderr",
     "output_type": "stream",
     "text": [
      "C:\\Users\\ASUS\\anaconda3\\lib\\site-packages\\sklearn\\linear_model\\_logistic.py:814: ConvergenceWarning: lbfgs failed to converge (status=1):\n",
      "STOP: TOTAL NO. of ITERATIONS REACHED LIMIT.\n",
      "\n",
      "Increase the number of iterations (max_iter) or scale the data as shown in:\n",
      "    https://scikit-learn.org/stable/modules/preprocessing.html\n",
      "Please also refer to the documentation for alternative solver options:\n",
      "    https://scikit-learn.org/stable/modules/linear_model.html#logistic-regression\n",
      "  n_iter_i = _check_optimize_result(\n",
      "C:\\Users\\ASUS\\anaconda3\\lib\\site-packages\\sklearn\\linear_model\\_logistic.py:814: ConvergenceWarning: lbfgs failed to converge (status=1):\n",
      "STOP: TOTAL NO. of ITERATIONS REACHED LIMIT.\n",
      "\n",
      "Increase the number of iterations (max_iter) or scale the data as shown in:\n",
      "    https://scikit-learn.org/stable/modules/preprocessing.html\n",
      "Please also refer to the documentation for alternative solver options:\n",
      "    https://scikit-learn.org/stable/modules/linear_model.html#logistic-regression\n",
      "  n_iter_i = _check_optimize_result(\n",
      "C:\\Users\\ASUS\\anaconda3\\lib\\site-packages\\sklearn\\linear_model\\_logistic.py:814: ConvergenceWarning: lbfgs failed to converge (status=1):\n",
      "STOP: TOTAL NO. of ITERATIONS REACHED LIMIT.\n",
      "\n",
      "Increase the number of iterations (max_iter) or scale the data as shown in:\n",
      "    https://scikit-learn.org/stable/modules/preprocessing.html\n",
      "Please also refer to the documentation for alternative solver options:\n",
      "    https://scikit-learn.org/stable/modules/linear_model.html#logistic-regression\n",
      "  n_iter_i = _check_optimize_result(\n",
      "C:\\Users\\ASUS\\anaconda3\\lib\\site-packages\\sklearn\\linear_model\\_logistic.py:814: ConvergenceWarning: lbfgs failed to converge (status=1):\n",
      "STOP: TOTAL NO. of ITERATIONS REACHED LIMIT.\n",
      "\n",
      "Increase the number of iterations (max_iter) or scale the data as shown in:\n",
      "    https://scikit-learn.org/stable/modules/preprocessing.html\n",
      "Please also refer to the documentation for alternative solver options:\n",
      "    https://scikit-learn.org/stable/modules/linear_model.html#logistic-regression\n",
      "  n_iter_i = _check_optimize_result(\n",
      "C:\\Users\\ASUS\\anaconda3\\lib\\site-packages\\sklearn\\linear_model\\_logistic.py:814: ConvergenceWarning: lbfgs failed to converge (status=1):\n",
      "STOP: TOTAL NO. of ITERATIONS REACHED LIMIT.\n",
      "\n",
      "Increase the number of iterations (max_iter) or scale the data as shown in:\n",
      "    https://scikit-learn.org/stable/modules/preprocessing.html\n",
      "Please also refer to the documentation for alternative solver options:\n",
      "    https://scikit-learn.org/stable/modules/linear_model.html#logistic-regression\n",
      "  n_iter_i = _check_optimize_result(\n"
     ]
    },
    {
     "name": "stdout",
     "output_type": "stream",
     "text": [
      "[CV] END .................C=29.763514416313132, solver=lbfgs; total time=   0.0s\n",
      "[CV] END .................C=29.763514416313132, solver=lbfgs; total time=   0.0s\n",
      "[CV] END ............................C=10000.0, solver=lbfgs; total time=   0.0s\n",
      "[CV] END ............................C=10000.0, solver=lbfgs; total time=   0.0s\n",
      "[CV] END ............................C=10000.0, solver=lbfgs; total time=   0.0s\n",
      "[CV] END ............................C=10000.0, solver=lbfgs; total time=   0.0s\n",
      "[CV] END ............................C=10000.0, solver=lbfgs; total time=   0.0s\n",
      "[CV] END ..........C=0.0018329807108324356, solver=liblinear; total time=   0.0s\n",
      "[CV] END ..........C=0.0018329807108324356, solver=liblinear; total time=   0.0s\n",
      "[CV] END ..........C=0.0018329807108324356, solver=liblinear; total time=   0.0s\n",
      "[CV] END ..........C=0.0018329807108324356, solver=liblinear; total time=   0.0s\n",
      "[CV] END ..........C=0.0018329807108324356, solver=liblinear; total time=   0.0s\n"
     ]
    },
    {
     "name": "stderr",
     "output_type": "stream",
     "text": [
      "C:\\Users\\ASUS\\anaconda3\\lib\\site-packages\\sklearn\\linear_model\\_logistic.py:814: ConvergenceWarning: lbfgs failed to converge (status=1):\n",
      "STOP: TOTAL NO. of ITERATIONS REACHED LIMIT.\n",
      "\n",
      "Increase the number of iterations (max_iter) or scale the data as shown in:\n",
      "    https://scikit-learn.org/stable/modules/preprocessing.html\n",
      "Please also refer to the documentation for alternative solver options:\n",
      "    https://scikit-learn.org/stable/modules/linear_model.html#logistic-regression\n",
      "  n_iter_i = _check_optimize_result(\n",
      "C:\\Users\\ASUS\\anaconda3\\lib\\site-packages\\sklearn\\linear_model\\_logistic.py:814: ConvergenceWarning: lbfgs failed to converge (status=1):\n",
      "STOP: TOTAL NO. of ITERATIONS REACHED LIMIT.\n",
      "\n",
      "Increase the number of iterations (max_iter) or scale the data as shown in:\n",
      "    https://scikit-learn.org/stable/modules/preprocessing.html\n",
      "Please also refer to the documentation for alternative solver options:\n",
      "    https://scikit-learn.org/stable/modules/linear_model.html#logistic-regression\n",
      "  n_iter_i = _check_optimize_result(\n",
      "C:\\Users\\ASUS\\anaconda3\\lib\\site-packages\\sklearn\\linear_model\\_logistic.py:814: ConvergenceWarning: lbfgs failed to converge (status=1):\n",
      "STOP: TOTAL NO. of ITERATIONS REACHED LIMIT.\n",
      "\n",
      "Increase the number of iterations (max_iter) or scale the data as shown in:\n",
      "    https://scikit-learn.org/stable/modules/preprocessing.html\n",
      "Please also refer to the documentation for alternative solver options:\n",
      "    https://scikit-learn.org/stable/modules/linear_model.html#logistic-regression\n",
      "  n_iter_i = _check_optimize_result(\n"
     ]
    },
    {
     "data": {
      "text/plain": [
       "{'solver': 'lbfgs', 'C': 0.08858667904100823}"
      ]
     },
     "execution_count": 13,
     "metadata": {},
     "output_type": "execute_result"
    }
   ],
   "source": [
    "# LogisticRegression tuning with RandomizedSearchCV\n",
    "np.random.seed(42)\n",
    "grid_log_reg = {'C': np.logspace(-4, 4, 20),\n",
    "       'solver': ['liblinear', 'lbfgs']}\n",
    "\n",
    "clf_log_reg = LogisticRegression()\n",
    "\n",
    "rs_log_reg = RandomizedSearchCV(estimator=clf_log_reg,\n",
    "                            param_distributions=grid_log_reg,\n",
    "                            n_iter=10,\n",
    "                            cv=5,\n",
    "                            verbose=2)\n",
    "rs_log_reg.fit(X_train, y_train)\n",
    "rs_log_reg.best_params_\n"
   ]
  },
  {
   "cell_type": "code",
   "execution_count": 14,
   "id": "1ffc8efb",
   "metadata": {},
   "outputs": [
    {
     "data": {
      "text/plain": [
       "0.7989130434782609"
      ]
     },
     "execution_count": 14,
     "metadata": {},
     "output_type": "execute_result"
    }
   ],
   "source": [
    "rs_log_reg.score(X_test, y_test)"
   ]
  },
  {
   "cell_type": "code",
   "execution_count": 15,
   "id": "d7927c80",
   "metadata": {},
   "outputs": [
    {
     "name": "stdout",
     "output_type": "stream",
     "text": [
      "Fitting 5 folds for each of 10 candidates, totalling 50 fits\n",
      "[CV] END ........C=0.08858667904100823, degree=3, kernel=rbf; total time=   0.0s\n",
      "[CV] END ........C=0.08858667904100823, degree=3, kernel=rbf; total time=   0.0s\n",
      "[CV] END ........C=0.08858667904100823, degree=3, kernel=rbf; total time=   0.0s\n",
      "[CV] END ........C=0.08858667904100823, degree=3, kernel=rbf; total time=   0.0s\n",
      "[CV] END ........C=0.08858667904100823, degree=3, kernel=rbf; total time=   0.0s\n",
      "[CV] END ........C=0.08858667904100823, degree=5, kernel=rbf; total time=   0.0s\n",
      "[CV] END ........C=0.08858667904100823, degree=5, kernel=rbf; total time=   0.0s\n",
      "[CV] END ........C=0.08858667904100823, degree=5, kernel=rbf; total time=   0.0s\n",
      "[CV] END ........C=0.08858667904100823, degree=5, kernel=rbf; total time=   0.0s\n",
      "[CV] END ........C=0.08858667904100823, degree=5, kernel=rbf; total time=   0.0s\n",
      "[CV] END ....................C=0.0001, degree=5, kernel=poly; total time=   0.0s\n",
      "[CV] END ....................C=0.0001, degree=5, kernel=poly; total time=   0.0s\n",
      "[CV] END ....................C=0.0001, degree=5, kernel=poly; total time=   0.0s\n",
      "[CV] END ....................C=0.0001, degree=5, kernel=poly; total time=   0.0s\n",
      "[CV] END ....................C=0.0001, degree=5, kernel=poly; total time=   0.0s\n",
      "[CV] END .........C=0.615848211066026, degree=3, kernel=poly; total time=   0.0s\n",
      "[CV] END .........C=0.615848211066026, degree=3, kernel=poly; total time=   0.0s\n",
      "[CV] END .........C=0.615848211066026, degree=3, kernel=poly; total time=   0.0s\n",
      "[CV] END .........C=0.615848211066026, degree=3, kernel=poly; total time=   0.0s\n",
      "[CV] END .........C=0.615848211066026, degree=3, kernel=poly; total time=   0.0s\n",
      "[CV] END .......C=0.004832930238571752, degree=3, kernel=rbf; total time=   0.0s\n",
      "[CV] END .......C=0.004832930238571752, degree=3, kernel=rbf; total time=   0.0s\n",
      "[CV] END .......C=0.004832930238571752, degree=3, kernel=rbf; total time=   0.0s\n",
      "[CV] END .......C=0.004832930238571752, degree=3, kernel=rbf; total time=   0.0s\n",
      "[CV] END .......C=0.004832930238571752, degree=3, kernel=rbf; total time=   0.0s\n",
      "[CV] END .........C=1.623776739188721, degree=5, kernel=poly; total time=   0.0s\n",
      "[CV] END .........C=1.623776739188721, degree=5, kernel=poly; total time=   0.0s\n",
      "[CV] END .........C=1.623776739188721, degree=5, kernel=poly; total time=   0.0s\n",
      "[CV] END .........C=1.623776739188721, degree=5, kernel=poly; total time=   0.0s\n",
      "[CV] END .........C=1.623776739188721, degree=5, kernel=poly; total time=   0.0s\n",
      "[CV] END ........C=11.288378916846883, degree=3, kernel=poly; total time=   0.0s\n",
      "[CV] END ........C=11.288378916846883, degree=3, kernel=poly; total time=   0.0s\n",
      "[CV] END ........C=11.288378916846883, degree=3, kernel=poly; total time=   0.0s\n",
      "[CV] END ........C=11.288378916846883, degree=3, kernel=poly; total time=   0.0s\n",
      "[CV] END ........C=11.288378916846883, degree=3, kernel=poly; total time=   0.0s\n",
      "[CV] END ....C=0.00026366508987303583, degree=5, kernel=poly; total time=   0.0s\n",
      "[CV] END ....C=0.00026366508987303583, degree=5, kernel=poly; total time=   0.0s\n",
      "[CV] END ....C=0.00026366508987303583, degree=5, kernel=poly; total time=   0.0s\n",
      "[CV] END ....C=0.00026366508987303583, degree=5, kernel=poly; total time=   0.0s\n",
      "[CV] END ....C=0.00026366508987303583, degree=5, kernel=poly; total time=   0.0s\n",
      "[CV] END .......C=0.03359818286283781, degree=5, kernel=poly; total time=   0.0s\n",
      "[CV] END .......C=0.03359818286283781, degree=5, kernel=poly; total time=   0.0s\n",
      "[CV] END .......C=0.03359818286283781, degree=5, kernel=poly; total time=   0.0s\n",
      "[CV] END .......C=0.03359818286283781, degree=5, kernel=poly; total time=   0.0s\n",
      "[CV] END .......C=0.03359818286283781, degree=5, kernel=poly; total time=   0.0s\n",
      "[CV] END ...........C=1438.44988828766, degree=5, kernel=rbf; total time=   0.0s\n",
      "[CV] END ...........C=1438.44988828766, degree=5, kernel=rbf; total time=   0.0s\n",
      "[CV] END ...........C=1438.44988828766, degree=5, kernel=rbf; total time=   0.0s\n",
      "[CV] END ...........C=1438.44988828766, degree=5, kernel=rbf; total time=   0.0s\n",
      "[CV] END ...........C=1438.44988828766, degree=5, kernel=rbf; total time=   0.0s\n"
     ]
    },
    {
     "data": {
      "text/plain": [
       "{'kernel': 'rbf', 'degree': 5, 'C': 1438.44988828766}"
      ]
     },
     "execution_count": 15,
     "metadata": {},
     "output_type": "execute_result"
    }
   ],
   "source": [
    "# SVC tuning with RandomizedSearchCV\n",
    "np.random.seed(42)\n",
    "\n",
    "grid_SVC = {'C': np.logspace(-4, 4, 20),\n",
    "            'kernel':['linear', 'poly', 'rbf'],\n",
    "            'degree':[3, 5]}\n",
    "\n",
    "clf_SVC = SVC()\n",
    "\n",
    "rs_SVC = RandomizedSearchCV(estimator=clf_SVC,\n",
    "                            param_distributions=grid_SVC,\n",
    "                            n_iter=10,\n",
    "                            cv=5,\n",
    "                            verbose=2)\n",
    "rs_SVC.fit(X_train, y_train)\n",
    "rs_SVC.best_params_"
   ]
  },
  {
   "cell_type": "code",
   "execution_count": 16,
   "id": "b73147ba",
   "metadata": {},
   "outputs": [
    {
     "data": {
      "text/plain": [
       "0.8043478260869565"
      ]
     },
     "execution_count": 16,
     "metadata": {},
     "output_type": "execute_result"
    }
   ],
   "source": [
    "rs_SVC.score(X_test, y_test)"
   ]
  },
  {
   "cell_type": "code",
   "execution_count": 17,
   "id": "0a56860b",
   "metadata": {},
   "outputs": [
    {
     "name": "stdout",
     "output_type": "stream",
     "text": [
      "Fitting 5 folds for each of 10 candidates, totalling 50 fits\n",
      "[CV] END ...........................................C=0.0001; total time=   0.0s\n",
      "[CV] END ...........................................C=0.0001; total time=   0.0s\n",
      "[CV] END ...........................................C=0.0001; total time=   0.0s\n",
      "[CV] END ...........................................C=0.0001; total time=   0.0s\n"
     ]
    },
    {
     "name": "stderr",
     "output_type": "stream",
     "text": [
      "C:\\Users\\ASUS\\anaconda3\\lib\\site-packages\\sklearn\\svm\\_base.py:1206: ConvergenceWarning: Liblinear failed to converge, increase the number of iterations.\n",
      "  warnings.warn(\n",
      "C:\\Users\\ASUS\\anaconda3\\lib\\site-packages\\sklearn\\svm\\_base.py:1206: ConvergenceWarning: Liblinear failed to converge, increase the number of iterations.\n",
      "  warnings.warn(\n"
     ]
    },
    {
     "name": "stdout",
     "output_type": "stream",
     "text": [
      "[CV] END ...........................................C=0.0001; total time=   0.0s\n",
      "[CV] END .................................C=1438.44988828766; total time=   0.0s\n",
      "[CV] END .................................C=1438.44988828766; total time=   0.0s\n",
      "[CV] END .................................C=1438.44988828766; total time=   0.0s\n"
     ]
    },
    {
     "name": "stderr",
     "output_type": "stream",
     "text": [
      "C:\\Users\\ASUS\\anaconda3\\lib\\site-packages\\sklearn\\svm\\_base.py:1206: ConvergenceWarning: Liblinear failed to converge, increase the number of iterations.\n",
      "  warnings.warn(\n",
      "C:\\Users\\ASUS\\anaconda3\\lib\\site-packages\\sklearn\\svm\\_base.py:1206: ConvergenceWarning: Liblinear failed to converge, increase the number of iterations.\n",
      "  warnings.warn(\n",
      "C:\\Users\\ASUS\\anaconda3\\lib\\site-packages\\sklearn\\svm\\_base.py:1206: ConvergenceWarning: Liblinear failed to converge, increase the number of iterations.\n",
      "  warnings.warn(\n",
      "C:\\Users\\ASUS\\anaconda3\\lib\\site-packages\\sklearn\\svm\\_base.py:1206: ConvergenceWarning: Liblinear failed to converge, increase the number of iterations.\n",
      "  warnings.warn(\n",
      "C:\\Users\\ASUS\\anaconda3\\lib\\site-packages\\sklearn\\svm\\_base.py:1206: ConvergenceWarning: Liblinear failed to converge, increase the number of iterations.\n",
      "  warnings.warn(\n"
     ]
    },
    {
     "name": "stdout",
     "output_type": "stream",
     "text": [
      "[CV] END .................................C=1438.44988828766; total time=   0.0s\n",
      "[CV] END .................................C=1438.44988828766; total time=   0.0s\n",
      "[CV] END .................................C=206.913808111479; total time=   0.0s\n",
      "[CV] END .................................C=206.913808111479; total time=   0.0s\n"
     ]
    },
    {
     "name": "stderr",
     "output_type": "stream",
     "text": [
      "C:\\Users\\ASUS\\anaconda3\\lib\\site-packages\\sklearn\\svm\\_base.py:1206: ConvergenceWarning: Liblinear failed to converge, increase the number of iterations.\n",
      "  warnings.warn(\n",
      "C:\\Users\\ASUS\\anaconda3\\lib\\site-packages\\sklearn\\svm\\_base.py:1206: ConvergenceWarning: Liblinear failed to converge, increase the number of iterations.\n",
      "  warnings.warn(\n",
      "C:\\Users\\ASUS\\anaconda3\\lib\\site-packages\\sklearn\\svm\\_base.py:1206: ConvergenceWarning: Liblinear failed to converge, increase the number of iterations.\n",
      "  warnings.warn(\n",
      "C:\\Users\\ASUS\\anaconda3\\lib\\site-packages\\sklearn\\svm\\_base.py:1206: ConvergenceWarning: Liblinear failed to converge, increase the number of iterations.\n",
      "  warnings.warn(\n"
     ]
    },
    {
     "name": "stdout",
     "output_type": "stream",
     "text": [
      "[CV] END .................................C=206.913808111479; total time=   0.0s\n",
      "[CV] END .................................C=206.913808111479; total time=   0.0s\n",
      "[CV] END .................................C=206.913808111479; total time=   0.0s\n",
      "[CV] END ...........................C=0.00026366508987303583; total time=   0.0s\n"
     ]
    },
    {
     "name": "stderr",
     "output_type": "stream",
     "text": [
      "C:\\Users\\ASUS\\anaconda3\\lib\\site-packages\\sklearn\\svm\\_base.py:1206: ConvergenceWarning: Liblinear failed to converge, increase the number of iterations.\n",
      "  warnings.warn(\n",
      "C:\\Users\\ASUS\\anaconda3\\lib\\site-packages\\sklearn\\svm\\_base.py:1206: ConvergenceWarning: Liblinear failed to converge, increase the number of iterations.\n",
      "  warnings.warn(\n",
      "C:\\Users\\ASUS\\anaconda3\\lib\\site-packages\\sklearn\\svm\\_base.py:1206: ConvergenceWarning: Liblinear failed to converge, increase the number of iterations.\n",
      "  warnings.warn(\n",
      "C:\\Users\\ASUS\\anaconda3\\lib\\site-packages\\sklearn\\svm\\_base.py:1206: ConvergenceWarning: Liblinear failed to converge, increase the number of iterations.\n",
      "  warnings.warn(\n"
     ]
    },
    {
     "name": "stdout",
     "output_type": "stream",
     "text": [
      "[CV] END ...........................C=0.00026366508987303583; total time=   0.0s\n",
      "[CV] END ...........................C=0.00026366508987303583; total time=   0.0s\n",
      "[CV] END ...........................C=0.00026366508987303583; total time=   0.0s\n",
      "[CV] END ...........................C=0.00026366508987303583; total time=   0.0s\n"
     ]
    },
    {
     "name": "stderr",
     "output_type": "stream",
     "text": [
      "C:\\Users\\ASUS\\anaconda3\\lib\\site-packages\\sklearn\\svm\\_base.py:1206: ConvergenceWarning: Liblinear failed to converge, increase the number of iterations.\n",
      "  warnings.warn(\n",
      "C:\\Users\\ASUS\\anaconda3\\lib\\site-packages\\sklearn\\svm\\_base.py:1206: ConvergenceWarning: Liblinear failed to converge, increase the number of iterations.\n",
      "  warnings.warn(\n",
      "C:\\Users\\ASUS\\anaconda3\\lib\\site-packages\\sklearn\\svm\\_base.py:1206: ConvergenceWarning: Liblinear failed to converge, increase the number of iterations.\n",
      "  warnings.warn(\n"
     ]
    },
    {
     "name": "stdout",
     "output_type": "stream",
     "text": [
      "[CV] END ..............................C=0.23357214690901212; total time=   0.0s\n",
      "[CV] END ..............................C=0.23357214690901212; total time=   0.0s\n",
      "[CV] END ..............................C=0.23357214690901212; total time=   0.0s\n"
     ]
    },
    {
     "name": "stderr",
     "output_type": "stream",
     "text": [
      "C:\\Users\\ASUS\\anaconda3\\lib\\site-packages\\sklearn\\svm\\_base.py:1206: ConvergenceWarning: Liblinear failed to converge, increase the number of iterations.\n",
      "  warnings.warn(\n",
      "C:\\Users\\ASUS\\anaconda3\\lib\\site-packages\\sklearn\\svm\\_base.py:1206: ConvergenceWarning: Liblinear failed to converge, increase the number of iterations.\n",
      "  warnings.warn(\n",
      "C:\\Users\\ASUS\\anaconda3\\lib\\site-packages\\sklearn\\svm\\_base.py:1206: ConvergenceWarning: Liblinear failed to converge, increase the number of iterations.\n",
      "  warnings.warn(\n",
      "C:\\Users\\ASUS\\anaconda3\\lib\\site-packages\\sklearn\\svm\\_base.py:1206: ConvergenceWarning: Liblinear failed to converge, increase the number of iterations.\n",
      "  warnings.warn(\n"
     ]
    },
    {
     "name": "stdout",
     "output_type": "stream",
     "text": [
      "[CV] END ..............................C=0.23357214690901212; total time=   0.0s\n",
      "[CV] END ..............................C=0.23357214690901212; total time=   0.0s\n",
      "[CV] END .............................C=0.012742749857031334; total time=   0.0s\n",
      "[CV] END .............................C=0.012742749857031334; total time=   0.0s\n"
     ]
    },
    {
     "name": "stderr",
     "output_type": "stream",
     "text": [
      "C:\\Users\\ASUS\\anaconda3\\lib\\site-packages\\sklearn\\svm\\_base.py:1206: ConvergenceWarning: Liblinear failed to converge, increase the number of iterations.\n",
      "  warnings.warn(\n",
      "C:\\Users\\ASUS\\anaconda3\\lib\\site-packages\\sklearn\\svm\\_base.py:1206: ConvergenceWarning: Liblinear failed to converge, increase the number of iterations.\n",
      "  warnings.warn(\n",
      "C:\\Users\\ASUS\\anaconda3\\lib\\site-packages\\sklearn\\svm\\_base.py:1206: ConvergenceWarning: Liblinear failed to converge, increase the number of iterations.\n",
      "  warnings.warn(\n",
      "C:\\Users\\ASUS\\anaconda3\\lib\\site-packages\\sklearn\\svm\\_base.py:1206: ConvergenceWarning: Liblinear failed to converge, increase the number of iterations.\n",
      "  warnings.warn(\n"
     ]
    },
    {
     "name": "stdout",
     "output_type": "stream",
     "text": [
      "[CV] END .............................C=0.012742749857031334; total time=   0.0s\n",
      "[CV] END .............................C=0.012742749857031334; total time=   0.0s\n",
      "[CV] END .............................C=0.012742749857031334; total time=   0.0s\n"
     ]
    },
    {
     "name": "stderr",
     "output_type": "stream",
     "text": [
      "C:\\Users\\ASUS\\anaconda3\\lib\\site-packages\\sklearn\\svm\\_base.py:1206: ConvergenceWarning: Liblinear failed to converge, increase the number of iterations.\n",
      "  warnings.warn(\n",
      "C:\\Users\\ASUS\\anaconda3\\lib\\site-packages\\sklearn\\svm\\_base.py:1206: ConvergenceWarning: Liblinear failed to converge, increase the number of iterations.\n",
      "  warnings.warn(\n",
      "C:\\Users\\ASUS\\anaconda3\\lib\\site-packages\\sklearn\\svm\\_base.py:1206: ConvergenceWarning: Liblinear failed to converge, increase the number of iterations.\n",
      "  warnings.warn(\n",
      "C:\\Users\\ASUS\\anaconda3\\lib\\site-packages\\sklearn\\svm\\_base.py:1206: ConvergenceWarning: Liblinear failed to converge, increase the number of iterations.\n",
      "  warnings.warn(\n"
     ]
    },
    {
     "name": "stdout",
     "output_type": "stream",
     "text": [
      "[CV] END ................................C=4.281332398719396; total time=   0.0s\n",
      "[CV] END ................................C=4.281332398719396; total time=   0.0s\n",
      "[CV] END ................................C=4.281332398719396; total time=   0.0s\n",
      "[CV] END ................................C=4.281332398719396; total time=   0.0s\n"
     ]
    },
    {
     "name": "stderr",
     "output_type": "stream",
     "text": [
      "C:\\Users\\ASUS\\anaconda3\\lib\\site-packages\\sklearn\\svm\\_base.py:1206: ConvergenceWarning: Liblinear failed to converge, increase the number of iterations.\n",
      "  warnings.warn(\n",
      "C:\\Users\\ASUS\\anaconda3\\lib\\site-packages\\sklearn\\svm\\_base.py:1206: ConvergenceWarning: Liblinear failed to converge, increase the number of iterations.\n",
      "  warnings.warn(\n",
      "C:\\Users\\ASUS\\anaconda3\\lib\\site-packages\\sklearn\\svm\\_base.py:1206: ConvergenceWarning: Liblinear failed to converge, increase the number of iterations.\n",
      "  warnings.warn(\n",
      "C:\\Users\\ASUS\\anaconda3\\lib\\site-packages\\sklearn\\svm\\_base.py:1206: ConvergenceWarning: Liblinear failed to converge, increase the number of iterations.\n",
      "  warnings.warn(\n"
     ]
    },
    {
     "name": "stdout",
     "output_type": "stream",
     "text": [
      "[CV] END ................................C=4.281332398719396; total time=   0.0s\n",
      "[CV] END ............................C=0.0018329807108324356; total time=   0.0s\n",
      "[CV] END ............................C=0.0018329807108324356; total time=   0.0s\n"
     ]
    },
    {
     "name": "stderr",
     "output_type": "stream",
     "text": [
      "C:\\Users\\ASUS\\anaconda3\\lib\\site-packages\\sklearn\\svm\\_base.py:1206: ConvergenceWarning: Liblinear failed to converge, increase the number of iterations.\n",
      "  warnings.warn(\n",
      "C:\\Users\\ASUS\\anaconda3\\lib\\site-packages\\sklearn\\svm\\_base.py:1206: ConvergenceWarning: Liblinear failed to converge, increase the number of iterations.\n",
      "  warnings.warn(\n",
      "C:\\Users\\ASUS\\anaconda3\\lib\\site-packages\\sklearn\\svm\\_base.py:1206: ConvergenceWarning: Liblinear failed to converge, increase the number of iterations.\n",
      "  warnings.warn(\n",
      "C:\\Users\\ASUS\\anaconda3\\lib\\site-packages\\sklearn\\svm\\_base.py:1206: ConvergenceWarning: Liblinear failed to converge, increase the number of iterations.\n",
      "  warnings.warn(\n"
     ]
    },
    {
     "name": "stdout",
     "output_type": "stream",
     "text": [
      "[CV] END ............................C=0.0018329807108324356; total time=   0.0s\n",
      "[CV] END ............................C=0.0018329807108324356; total time=   0.0s\n",
      "[CV] END ............................C=0.0018329807108324356; total time=   0.0s\n",
      "[CV] END ................................C=3792.690190732246; total time=   0.0s\n"
     ]
    },
    {
     "name": "stderr",
     "output_type": "stream",
     "text": [
      "C:\\Users\\ASUS\\anaconda3\\lib\\site-packages\\sklearn\\svm\\_base.py:1206: ConvergenceWarning: Liblinear failed to converge, increase the number of iterations.\n",
      "  warnings.warn(\n",
      "C:\\Users\\ASUS\\anaconda3\\lib\\site-packages\\sklearn\\svm\\_base.py:1206: ConvergenceWarning: Liblinear failed to converge, increase the number of iterations.\n",
      "  warnings.warn(\n",
      "C:\\Users\\ASUS\\anaconda3\\lib\\site-packages\\sklearn\\svm\\_base.py:1206: ConvergenceWarning: Liblinear failed to converge, increase the number of iterations.\n",
      "  warnings.warn(\n",
      "C:\\Users\\ASUS\\anaconda3\\lib\\site-packages\\sklearn\\svm\\_base.py:1206: ConvergenceWarning: Liblinear failed to converge, increase the number of iterations.\n",
      "  warnings.warn(\n",
      "C:\\Users\\ASUS\\anaconda3\\lib\\site-packages\\sklearn\\svm\\_base.py:1206: ConvergenceWarning: Liblinear failed to converge, increase the number of iterations.\n",
      "  warnings.warn(\n"
     ]
    },
    {
     "name": "stdout",
     "output_type": "stream",
     "text": [
      "[CV] END ................................C=3792.690190732246; total time=   0.0s\n",
      "[CV] END ................................C=3792.690190732246; total time=   0.0s\n",
      "[CV] END ................................C=3792.690190732246; total time=   0.0s\n",
      "[CV] END ................................C=3792.690190732246; total time=   0.0s\n",
      "[CV] END ................................C=545.5594781168514; total time=   0.0s\n",
      "[CV] END ................................C=545.5594781168514; total time=   0.0s\n",
      "[CV] END ................................C=545.5594781168514; total time=   0.0s\n",
      "[CV] END ................................C=545.5594781168514; total time=   0.0s\n"
     ]
    },
    {
     "name": "stderr",
     "output_type": "stream",
     "text": [
      "C:\\Users\\ASUS\\anaconda3\\lib\\site-packages\\sklearn\\svm\\_base.py:1206: ConvergenceWarning: Liblinear failed to converge, increase the number of iterations.\n",
      "  warnings.warn(\n",
      "C:\\Users\\ASUS\\anaconda3\\lib\\site-packages\\sklearn\\svm\\_base.py:1206: ConvergenceWarning: Liblinear failed to converge, increase the number of iterations.\n",
      "  warnings.warn(\n",
      "C:\\Users\\ASUS\\anaconda3\\lib\\site-packages\\sklearn\\svm\\_base.py:1206: ConvergenceWarning: Liblinear failed to converge, increase the number of iterations.\n",
      "  warnings.warn(\n",
      "C:\\Users\\ASUS\\anaconda3\\lib\\site-packages\\sklearn\\svm\\_base.py:1206: ConvergenceWarning: Liblinear failed to converge, increase the number of iterations.\n",
      "  warnings.warn(\n"
     ]
    },
    {
     "name": "stdout",
     "output_type": "stream",
     "text": [
      "[CV] END ................................C=545.5594781168514; total time=   0.0s\n"
     ]
    },
    {
     "name": "stderr",
     "output_type": "stream",
     "text": [
      "C:\\Users\\ASUS\\anaconda3\\lib\\site-packages\\sklearn\\svm\\_base.py:1206: ConvergenceWarning: Liblinear failed to converge, increase the number of iterations.\n",
      "  warnings.warn(\n"
     ]
    },
    {
     "data": {
      "text/plain": [
       "{'C': 0.0018329807108324356}"
      ]
     },
     "execution_count": 17,
     "metadata": {},
     "output_type": "execute_result"
    }
   ],
   "source": [
    "# LinearSVC tuning with RandomizedSearchCV\n",
    "np.random.seed(42)\n",
    "\n",
    "grid_SVC_linear = {'C': np.logspace(-4, 4, 20)}\n",
    "\n",
    "clf_SVC_linear = LinearSVC()\n",
    "\n",
    "rs_SVC_linear = RandomizedSearchCV(estimator=clf_SVC_linear,\n",
    "                            param_distributions=grid_SVC_linear,\n",
    "                            n_iter=10,\n",
    "                            cv=5,\n",
    "                            verbose=2)\n",
    "rs_SVC_linear.fit(X_train, y_train)\n",
    "rs_SVC_linear.best_params_"
   ]
  },
  {
   "cell_type": "code",
   "execution_count": 18,
   "id": "055f2d5f",
   "metadata": {},
   "outputs": [
    {
     "data": {
      "text/plain": [
       "0.782608695652174"
      ]
     },
     "execution_count": 18,
     "metadata": {},
     "output_type": "execute_result"
    }
   ],
   "source": [
    "rs_SVC_linear.score(X_test, y_test)"
   ]
  },
  {
   "cell_type": "code",
   "execution_count": 222,
   "id": "5ca29a45",
   "metadata": {},
   "outputs": [
    {
     "name": "stdout",
     "output_type": "stream",
     "text": [
      "Fitting 5 folds for each of 10 candidates, totalling 50 fits\n",
      "[CV] END max_depth=10, max_features=sqrt, min_samples_leaf=15, min_samples_split=14, n_estimators=500; total time=   1.1s\n",
      "[CV] END max_depth=10, max_features=sqrt, min_samples_leaf=15, min_samples_split=14, n_estimators=500; total time=   1.1s\n",
      "[CV] END max_depth=10, max_features=sqrt, min_samples_leaf=15, min_samples_split=14, n_estimators=500; total time=   1.1s\n",
      "[CV] END max_depth=10, max_features=sqrt, min_samples_leaf=15, min_samples_split=14, n_estimators=500; total time=   1.1s\n",
      "[CV] END max_depth=10, max_features=sqrt, min_samples_leaf=15, min_samples_split=14, n_estimators=500; total time=   1.3s\n",
      "[CV] END max_depth=None, max_features=None, min_samples_leaf=13, min_samples_split=16, n_estimators=600; total time=   2.0s\n",
      "[CV] END max_depth=None, max_features=None, min_samples_leaf=13, min_samples_split=16, n_estimators=600; total time=   2.3s\n",
      "[CV] END max_depth=None, max_features=None, min_samples_leaf=13, min_samples_split=16, n_estimators=600; total time=   2.9s\n",
      "[CV] END max_depth=None, max_features=None, min_samples_leaf=13, min_samples_split=16, n_estimators=600; total time=   1.8s\n",
      "[CV] END max_depth=None, max_features=None, min_samples_leaf=13, min_samples_split=16, n_estimators=600; total time=   1.4s\n",
      "[CV] END max_depth=10, max_features=None, min_samples_leaf=5, min_samples_split=16, n_estimators=300; total time=   0.7s\n",
      "[CV] END max_depth=10, max_features=None, min_samples_leaf=5, min_samples_split=16, n_estimators=300; total time=   1.1s\n",
      "[CV] END max_depth=10, max_features=None, min_samples_leaf=5, min_samples_split=16, n_estimators=300; total time=   1.0s\n",
      "[CV] END max_depth=10, max_features=None, min_samples_leaf=5, min_samples_split=16, n_estimators=300; total time=   0.9s\n",
      "[CV] END max_depth=10, max_features=None, min_samples_leaf=5, min_samples_split=16, n_estimators=300; total time=   0.9s\n",
      "[CV] END max_depth=10, max_features=None, min_samples_leaf=3, min_samples_split=4, n_estimators=850; total time=   3.2s\n",
      "[CV] END max_depth=10, max_features=None, min_samples_leaf=3, min_samples_split=4, n_estimators=850; total time=   4.2s\n",
      "[CV] END max_depth=10, max_features=None, min_samples_leaf=3, min_samples_split=4, n_estimators=850; total time=   2.5s\n",
      "[CV] END max_depth=10, max_features=None, min_samples_leaf=3, min_samples_split=4, n_estimators=850; total time=   3.3s\n",
      "[CV] END max_depth=10, max_features=None, min_samples_leaf=3, min_samples_split=4, n_estimators=850; total time=   3.0s\n",
      "[CV] END max_depth=10, max_features=None, min_samples_leaf=11, min_samples_split=10, n_estimators=700; total time=   2.1s\n",
      "[CV] END max_depth=10, max_features=None, min_samples_leaf=11, min_samples_split=10, n_estimators=700; total time=   3.0s\n",
      "[CV] END max_depth=10, max_features=None, min_samples_leaf=11, min_samples_split=10, n_estimators=700; total time=   2.5s\n",
      "[CV] END max_depth=10, max_features=None, min_samples_leaf=11, min_samples_split=10, n_estimators=700; total time=   1.9s\n",
      "[CV] END max_depth=10, max_features=None, min_samples_leaf=11, min_samples_split=10, n_estimators=700; total time=   2.2s\n",
      "[CV] END max_depth=10, max_features=None, min_samples_leaf=19, min_samples_split=14, n_estimators=650; total time=   1.9s\n",
      "[CV] END max_depth=10, max_features=None, min_samples_leaf=19, min_samples_split=14, n_estimators=650; total time=   1.9s\n",
      "[CV] END max_depth=10, max_features=None, min_samples_leaf=19, min_samples_split=14, n_estimators=650; total time=   1.9s\n",
      "[CV] END max_depth=10, max_features=None, min_samples_leaf=19, min_samples_split=14, n_estimators=650; total time=   2.8s\n",
      "[CV] END max_depth=10, max_features=None, min_samples_leaf=19, min_samples_split=14, n_estimators=650; total time=   2.4s\n",
      "[CV] END max_depth=None, max_features=None, min_samples_leaf=7, min_samples_split=14, n_estimators=500; total time=   1.5s\n",
      "[CV] END max_depth=None, max_features=None, min_samples_leaf=7, min_samples_split=14, n_estimators=500; total time=   1.5s\n",
      "[CV] END max_depth=None, max_features=None, min_samples_leaf=7, min_samples_split=14, n_estimators=500; total time=   1.8s\n",
      "[CV] END max_depth=None, max_features=None, min_samples_leaf=7, min_samples_split=14, n_estimators=500; total time=   1.6s\n",
      "[CV] END max_depth=None, max_features=None, min_samples_leaf=7, min_samples_split=14, n_estimators=500; total time=   1.5s\n",
      "[CV] END max_depth=5, max_features=sqrt, min_samples_leaf=11, min_samples_split=4, n_estimators=400; total time=   0.9s\n",
      "[CV] END max_depth=5, max_features=sqrt, min_samples_leaf=11, min_samples_split=4, n_estimators=400; total time=   1.2s\n",
      "[CV] END max_depth=5, max_features=sqrt, min_samples_leaf=11, min_samples_split=4, n_estimators=400; total time=   1.4s\n",
      "[CV] END max_depth=5, max_features=sqrt, min_samples_leaf=11, min_samples_split=4, n_estimators=400; total time=   1.4s\n",
      "[CV] END max_depth=5, max_features=sqrt, min_samples_leaf=11, min_samples_split=4, n_estimators=400; total time=   1.3s\n",
      "[CV] END max_depth=10, max_features=None, min_samples_leaf=9, min_samples_split=6, n_estimators=600; total time=   1.5s\n",
      "[CV] END max_depth=10, max_features=None, min_samples_leaf=9, min_samples_split=6, n_estimators=600; total time=   1.5s\n",
      "[CV] END max_depth=10, max_features=None, min_samples_leaf=9, min_samples_split=6, n_estimators=600; total time=   3.0s\n",
      "[CV] END max_depth=10, max_features=None, min_samples_leaf=9, min_samples_split=6, n_estimators=600; total time=   2.1s\n",
      "[CV] END max_depth=10, max_features=None, min_samples_leaf=9, min_samples_split=6, n_estimators=600; total time=   2.2s\n",
      "[CV] END max_depth=20, max_features=None, min_samples_leaf=13, min_samples_split=2, n_estimators=600; total time=   2.2s\n",
      "[CV] END max_depth=20, max_features=None, min_samples_leaf=13, min_samples_split=2, n_estimators=600; total time=   2.7s\n",
      "[CV] END max_depth=20, max_features=None, min_samples_leaf=13, min_samples_split=2, n_estimators=600; total time=   1.5s\n",
      "[CV] END max_depth=20, max_features=None, min_samples_leaf=13, min_samples_split=2, n_estimators=600; total time=   1.4s\n",
      "[CV] END max_depth=20, max_features=None, min_samples_leaf=13, min_samples_split=2, n_estimators=600; total time=   2.2s\n"
     ]
    },
    {
     "data": {
      "text/plain": [
       "{'n_estimators': 500,\n",
       " 'min_samples_split': 14,\n",
       " 'min_samples_leaf': 15,\n",
       " 'max_features': 'sqrt',\n",
       " 'max_depth': 10}"
      ]
     },
     "execution_count": 222,
     "metadata": {},
     "output_type": "execute_result"
    }
   ],
   "source": [
    "# RandomForestClassifier tuning with RandomizedSearchCV\n",
    "\n",
    "np.random.seed(42)\n",
    "\n",
    "rf_grid = {'n_estimators': np.arange(300, 1000, 50),\n",
    "       'max_depth': [None, 5, 10, 20],\n",
    "       'max_features': [None, 'sqrt'],\n",
    "       'min_samples_split': np.arange(2, 20, 2),\n",
    "       'min_samples_leaf':  np.arange(1, 20, 2)}\n",
    "\n",
    "clf_rf = RandomForestClassifier(n_jobs=1)\n",
    "\n",
    "rs_clf_rf = RandomizedSearchCV(estimator=clf_rf,\n",
    "                            param_distributions=rf_grid,\n",
    "                            n_iter=10,\n",
    "                            cv=5,\n",
    "                            verbose=2)\n",
    "rs_clf_rf.fit(X_train, y_train)\n",
    "rs_clf_rf.best_params_"
   ]
  },
  {
   "cell_type": "code",
   "execution_count": 223,
   "id": "c4737342",
   "metadata": {},
   "outputs": [
    {
     "data": {
      "text/plain": [
       "0.7880434782608695"
      ]
     },
     "execution_count": 223,
     "metadata": {},
     "output_type": "execute_result"
    }
   ],
   "source": [
    "rs_clf_rf.score(X_test, y_test)"
   ]
  },
  {
   "cell_type": "markdown",
   "id": "6bedd0d0",
   "metadata": {},
   "source": [
    "## Hyperparameter Tuning with GridSearchCV\n",
    "Since our SVC model provides the best scores so far, we'll try and improve them again using GridSearchCV"
   ]
  },
  {
   "cell_type": "code",
   "execution_count": 31,
   "id": "0c4be996",
   "metadata": {},
   "outputs": [
    {
     "name": "stdout",
     "output_type": "stream",
     "text": [
      "Fitting 5 folds for each of 40 candidates, totalling 200 fits\n",
      "[CV] END ....................C=0.0001, degree=5, kernel=poly; total time=   0.0s\n",
      "[CV] END ....................C=0.0001, degree=5, kernel=poly; total time=   0.0s\n",
      "[CV] END ....................C=0.0001, degree=5, kernel=poly; total time=   0.0s\n",
      "[CV] END ....................C=0.0001, degree=5, kernel=poly; total time=   0.0s\n",
      "[CV] END ....................C=0.0001, degree=5, kernel=poly; total time=   0.0s\n",
      "[CV] END .....................C=0.0001, degree=5, kernel=rbf; total time=   0.0s\n",
      "[CV] END .....................C=0.0001, degree=5, kernel=rbf; total time=   0.0s\n",
      "[CV] END .....................C=0.0001, degree=5, kernel=rbf; total time=   0.0s\n",
      "[CV] END .....................C=0.0001, degree=5, kernel=rbf; total time=   0.0s\n",
      "[CV] END .....................C=0.0001, degree=5, kernel=rbf; total time=   0.0s\n",
      "[CV] END ....C=0.00026366508987303583, degree=5, kernel=poly; total time=   0.0s\n",
      "[CV] END ....C=0.00026366508987303583, degree=5, kernel=poly; total time=   0.0s\n",
      "[CV] END ....C=0.00026366508987303583, degree=5, kernel=poly; total time=   0.0s\n",
      "[CV] END ....C=0.00026366508987303583, degree=5, kernel=poly; total time=   0.0s\n",
      "[CV] END ....C=0.00026366508987303583, degree=5, kernel=poly; total time=   0.0s\n",
      "[CV] END .....C=0.00026366508987303583, degree=5, kernel=rbf; total time=   0.0s\n",
      "[CV] END .....C=0.00026366508987303583, degree=5, kernel=rbf; total time=   0.0s\n",
      "[CV] END .....C=0.00026366508987303583, degree=5, kernel=rbf; total time=   0.0s\n",
      "[CV] END .....C=0.00026366508987303583, degree=5, kernel=rbf; total time=   0.0s\n",
      "[CV] END .....C=0.00026366508987303583, degree=5, kernel=rbf; total time=   0.0s\n",
      "[CV] END .....C=0.0006951927961775605, degree=5, kernel=poly; total time=   0.0s\n",
      "[CV] END .....C=0.0006951927961775605, degree=5, kernel=poly; total time=   0.0s\n",
      "[CV] END .....C=0.0006951927961775605, degree=5, kernel=poly; total time=   0.0s\n",
      "[CV] END .....C=0.0006951927961775605, degree=5, kernel=poly; total time=   0.0s\n",
      "[CV] END .....C=0.0006951927961775605, degree=5, kernel=poly; total time=   0.0s\n",
      "[CV] END ......C=0.0006951927961775605, degree=5, kernel=rbf; total time=   0.0s\n",
      "[CV] END ......C=0.0006951927961775605, degree=5, kernel=rbf; total time=   0.0s\n",
      "[CV] END ......C=0.0006951927961775605, degree=5, kernel=rbf; total time=   0.0s\n",
      "[CV] END ......C=0.0006951927961775605, degree=5, kernel=rbf; total time=   0.0s\n",
      "[CV] END ......C=0.0006951927961775605, degree=5, kernel=rbf; total time=   0.0s\n",
      "[CV] END .....C=0.0018329807108324356, degree=5, kernel=poly; total time=   0.0s\n",
      "[CV] END .....C=0.0018329807108324356, degree=5, kernel=poly; total time=   0.0s\n",
      "[CV] END .....C=0.0018329807108324356, degree=5, kernel=poly; total time=   0.0s\n",
      "[CV] END .....C=0.0018329807108324356, degree=5, kernel=poly; total time=   0.0s\n",
      "[CV] END .....C=0.0018329807108324356, degree=5, kernel=poly; total time=   0.0s\n",
      "[CV] END ......C=0.0018329807108324356, degree=5, kernel=rbf; total time=   0.0s\n",
      "[CV] END ......C=0.0018329807108324356, degree=5, kernel=rbf; total time=   0.0s\n",
      "[CV] END ......C=0.0018329807108324356, degree=5, kernel=rbf; total time=   0.0s\n",
      "[CV] END ......C=0.0018329807108324356, degree=5, kernel=rbf; total time=   0.0s\n",
      "[CV] END ......C=0.0018329807108324356, degree=5, kernel=rbf; total time=   0.0s\n",
      "[CV] END ......C=0.004832930238571752, degree=5, kernel=poly; total time=   0.0s\n",
      "[CV] END ......C=0.004832930238571752, degree=5, kernel=poly; total time=   0.0s\n",
      "[CV] END ......C=0.004832930238571752, degree=5, kernel=poly; total time=   0.0s\n",
      "[CV] END ......C=0.004832930238571752, degree=5, kernel=poly; total time=   0.0s\n",
      "[CV] END ......C=0.004832930238571752, degree=5, kernel=poly; total time=   0.0s\n",
      "[CV] END .......C=0.004832930238571752, degree=5, kernel=rbf; total time=   0.0s\n",
      "[CV] END .......C=0.004832930238571752, degree=5, kernel=rbf; total time=   0.0s\n",
      "[CV] END .......C=0.004832930238571752, degree=5, kernel=rbf; total time=   0.0s\n",
      "[CV] END .......C=0.004832930238571752, degree=5, kernel=rbf; total time=   0.0s\n",
      "[CV] END .......C=0.004832930238571752, degree=5, kernel=rbf; total time=   0.0s\n",
      "[CV] END ......C=0.012742749857031334, degree=5, kernel=poly; total time=   0.0s\n",
      "[CV] END ......C=0.012742749857031334, degree=5, kernel=poly; total time=   0.0s\n",
      "[CV] END ......C=0.012742749857031334, degree=5, kernel=poly; total time=   0.0s\n",
      "[CV] END ......C=0.012742749857031334, degree=5, kernel=poly; total time=   0.0s\n",
      "[CV] END ......C=0.012742749857031334, degree=5, kernel=poly; total time=   0.0s\n",
      "[CV] END .......C=0.012742749857031334, degree=5, kernel=rbf; total time=   0.0s\n",
      "[CV] END .......C=0.012742749857031334, degree=5, kernel=rbf; total time=   0.0s\n",
      "[CV] END .......C=0.012742749857031334, degree=5, kernel=rbf; total time=   0.0s\n",
      "[CV] END .......C=0.012742749857031334, degree=5, kernel=rbf; total time=   0.0s\n",
      "[CV] END .......C=0.012742749857031334, degree=5, kernel=rbf; total time=   0.0s\n",
      "[CV] END .......C=0.03359818286283781, degree=5, kernel=poly; total time=   0.0s\n",
      "[CV] END .......C=0.03359818286283781, degree=5, kernel=poly; total time=   0.0s\n",
      "[CV] END .......C=0.03359818286283781, degree=5, kernel=poly; total time=   0.0s\n",
      "[CV] END .......C=0.03359818286283781, degree=5, kernel=poly; total time=   0.0s\n",
      "[CV] END .......C=0.03359818286283781, degree=5, kernel=poly; total time=   0.0s\n",
      "[CV] END ........C=0.03359818286283781, degree=5, kernel=rbf; total time=   0.0s\n",
      "[CV] END ........C=0.03359818286283781, degree=5, kernel=rbf; total time=   0.0s\n",
      "[CV] END ........C=0.03359818286283781, degree=5, kernel=rbf; total time=   0.0s\n",
      "[CV] END ........C=0.03359818286283781, degree=5, kernel=rbf; total time=   0.0s\n",
      "[CV] END ........C=0.03359818286283781, degree=5, kernel=rbf; total time=   0.0s\n",
      "[CV] END .......C=0.08858667904100823, degree=5, kernel=poly; total time=   0.0s\n",
      "[CV] END .......C=0.08858667904100823, degree=5, kernel=poly; total time=   0.0s\n",
      "[CV] END .......C=0.08858667904100823, degree=5, kernel=poly; total time=   0.0s\n",
      "[CV] END .......C=0.08858667904100823, degree=5, kernel=poly; total time=   0.0s\n",
      "[CV] END .......C=0.08858667904100823, degree=5, kernel=poly; total time=   0.0s\n",
      "[CV] END ........C=0.08858667904100823, degree=5, kernel=rbf; total time=   0.0s\n",
      "[CV] END ........C=0.08858667904100823, degree=5, kernel=rbf; total time=   0.0s\n",
      "[CV] END ........C=0.08858667904100823, degree=5, kernel=rbf; total time=   0.0s\n",
      "[CV] END ........C=0.08858667904100823, degree=5, kernel=rbf; total time=   0.0s\n",
      "[CV] END ........C=0.08858667904100823, degree=5, kernel=rbf; total time=   0.0s\n",
      "[CV] END .......C=0.23357214690901212, degree=5, kernel=poly; total time=   0.0s\n",
      "[CV] END .......C=0.23357214690901212, degree=5, kernel=poly; total time=   0.0s\n",
      "[CV] END .......C=0.23357214690901212, degree=5, kernel=poly; total time=   0.0s\n",
      "[CV] END .......C=0.23357214690901212, degree=5, kernel=poly; total time=   0.0s\n",
      "[CV] END .......C=0.23357214690901212, degree=5, kernel=poly; total time=   0.0s\n",
      "[CV] END ........C=0.23357214690901212, degree=5, kernel=rbf; total time=   0.0s\n",
      "[CV] END ........C=0.23357214690901212, degree=5, kernel=rbf; total time=   0.0s\n",
      "[CV] END ........C=0.23357214690901212, degree=5, kernel=rbf; total time=   0.0s\n",
      "[CV] END ........C=0.23357214690901212, degree=5, kernel=rbf; total time=   0.0s\n",
      "[CV] END ........C=0.23357214690901212, degree=5, kernel=rbf; total time=   0.0s\n",
      "[CV] END .........C=0.615848211066026, degree=5, kernel=poly; total time=   0.0s\n",
      "[CV] END .........C=0.615848211066026, degree=5, kernel=poly; total time=   0.0s\n",
      "[CV] END .........C=0.615848211066026, degree=5, kernel=poly; total time=   0.0s\n",
      "[CV] END .........C=0.615848211066026, degree=5, kernel=poly; total time=   0.0s\n",
      "[CV] END .........C=0.615848211066026, degree=5, kernel=poly; total time=   0.0s\n",
      "[CV] END ..........C=0.615848211066026, degree=5, kernel=rbf; total time=   0.0s\n",
      "[CV] END ..........C=0.615848211066026, degree=5, kernel=rbf; total time=   0.0s\n",
      "[CV] END ..........C=0.615848211066026, degree=5, kernel=rbf; total time=   0.0s\n",
      "[CV] END ..........C=0.615848211066026, degree=5, kernel=rbf; total time=   0.0s\n",
      "[CV] END ..........C=0.615848211066026, degree=5, kernel=rbf; total time=   0.0s\n",
      "[CV] END .........C=1.623776739188721, degree=5, kernel=poly; total time=   0.0s\n",
      "[CV] END .........C=1.623776739188721, degree=5, kernel=poly; total time=   0.0s\n",
      "[CV] END .........C=1.623776739188721, degree=5, kernel=poly; total time=   0.0s\n",
      "[CV] END .........C=1.623776739188721, degree=5, kernel=poly; total time=   0.0s\n",
      "[CV] END .........C=1.623776739188721, degree=5, kernel=poly; total time=   0.0s\n"
     ]
    },
    {
     "name": "stdout",
     "output_type": "stream",
     "text": [
      "[CV] END ..........C=1.623776739188721, degree=5, kernel=rbf; total time=   0.0s\n",
      "[CV] END ..........C=1.623776739188721, degree=5, kernel=rbf; total time=   0.0s\n",
      "[CV] END ..........C=1.623776739188721, degree=5, kernel=rbf; total time=   0.0s\n",
      "[CV] END ..........C=1.623776739188721, degree=5, kernel=rbf; total time=   0.0s\n",
      "[CV] END ..........C=1.623776739188721, degree=5, kernel=rbf; total time=   0.0s\n",
      "[CV] END .........C=4.281332398719396, degree=5, kernel=poly; total time=   0.0s\n",
      "[CV] END .........C=4.281332398719396, degree=5, kernel=poly; total time=   0.0s\n",
      "[CV] END .........C=4.281332398719396, degree=5, kernel=poly; total time=   0.0s\n",
      "[CV] END .........C=4.281332398719396, degree=5, kernel=poly; total time=   0.0s\n",
      "[CV] END .........C=4.281332398719396, degree=5, kernel=poly; total time=   0.0s\n",
      "[CV] END ..........C=4.281332398719396, degree=5, kernel=rbf; total time=   0.0s\n",
      "[CV] END ..........C=4.281332398719396, degree=5, kernel=rbf; total time=   0.0s\n",
      "[CV] END ..........C=4.281332398719396, degree=5, kernel=rbf; total time=   0.0s\n",
      "[CV] END ..........C=4.281332398719396, degree=5, kernel=rbf; total time=   0.0s\n",
      "[CV] END ..........C=4.281332398719396, degree=5, kernel=rbf; total time=   0.0s\n",
      "[CV] END ........C=11.288378916846883, degree=5, kernel=poly; total time=   0.0s\n",
      "[CV] END ........C=11.288378916846883, degree=5, kernel=poly; total time=   0.0s\n",
      "[CV] END ........C=11.288378916846883, degree=5, kernel=poly; total time=   0.0s\n",
      "[CV] END ........C=11.288378916846883, degree=5, kernel=poly; total time=   0.0s\n",
      "[CV] END ........C=11.288378916846883, degree=5, kernel=poly; total time=   0.0s\n",
      "[CV] END .........C=11.288378916846883, degree=5, kernel=rbf; total time=   0.0s\n",
      "[CV] END .........C=11.288378916846883, degree=5, kernel=rbf; total time=   0.0s\n",
      "[CV] END .........C=11.288378916846883, degree=5, kernel=rbf; total time=   0.0s\n",
      "[CV] END .........C=11.288378916846883, degree=5, kernel=rbf; total time=   0.0s\n",
      "[CV] END .........C=11.288378916846883, degree=5, kernel=rbf; total time=   0.0s\n",
      "[CV] END ........C=29.763514416313132, degree=5, kernel=poly; total time=   0.0s\n",
      "[CV] END ........C=29.763514416313132, degree=5, kernel=poly; total time=   0.0s\n",
      "[CV] END ........C=29.763514416313132, degree=5, kernel=poly; total time=   0.1s\n",
      "[CV] END ........C=29.763514416313132, degree=5, kernel=poly; total time=   0.0s\n",
      "[CV] END ........C=29.763514416313132, degree=5, kernel=poly; total time=   0.1s\n",
      "[CV] END .........C=29.763514416313132, degree=5, kernel=rbf; total time=   0.0s\n",
      "[CV] END .........C=29.763514416313132, degree=5, kernel=rbf; total time=   0.0s\n",
      "[CV] END .........C=29.763514416313132, degree=5, kernel=rbf; total time=   0.0s\n",
      "[CV] END .........C=29.763514416313132, degree=5, kernel=rbf; total time=   0.0s\n",
      "[CV] END .........C=29.763514416313132, degree=5, kernel=rbf; total time=   0.0s\n",
      "[CV] END .........C=78.47599703514607, degree=5, kernel=poly; total time=   0.1s\n",
      "[CV] END .........C=78.47599703514607, degree=5, kernel=poly; total time=   0.1s\n",
      "[CV] END .........C=78.47599703514607, degree=5, kernel=poly; total time=   0.1s\n",
      "[CV] END .........C=78.47599703514607, degree=5, kernel=poly; total time=   0.1s\n",
      "[CV] END .........C=78.47599703514607, degree=5, kernel=poly; total time=   0.1s\n",
      "[CV] END ..........C=78.47599703514607, degree=5, kernel=rbf; total time=   0.0s\n",
      "[CV] END ..........C=78.47599703514607, degree=5, kernel=rbf; total time=   0.0s\n",
      "[CV] END ..........C=78.47599703514607, degree=5, kernel=rbf; total time=   0.0s\n",
      "[CV] END ..........C=78.47599703514607, degree=5, kernel=rbf; total time=   0.0s\n",
      "[CV] END ..........C=78.47599703514607, degree=5, kernel=rbf; total time=   0.0s\n",
      "[CV] END ..........C=206.913808111479, degree=5, kernel=poly; total time=   0.2s\n",
      "[CV] END ..........C=206.913808111479, degree=5, kernel=poly; total time=   0.2s\n",
      "[CV] END ..........C=206.913808111479, degree=5, kernel=poly; total time=   0.1s\n",
      "[CV] END ..........C=206.913808111479, degree=5, kernel=poly; total time=   0.3s\n",
      "[CV] END ..........C=206.913808111479, degree=5, kernel=poly; total time=   0.3s\n",
      "[CV] END ...........C=206.913808111479, degree=5, kernel=rbf; total time=   0.0s\n",
      "[CV] END ...........C=206.913808111479, degree=5, kernel=rbf; total time=   0.0s\n",
      "[CV] END ...........C=206.913808111479, degree=5, kernel=rbf; total time=   0.0s\n",
      "[CV] END ...........C=206.913808111479, degree=5, kernel=rbf; total time=   0.0s\n",
      "[CV] END ...........C=206.913808111479, degree=5, kernel=rbf; total time=   0.0s\n",
      "[CV] END .........C=545.5594781168514, degree=5, kernel=poly; total time=   0.4s\n",
      "[CV] END .........C=545.5594781168514, degree=5, kernel=poly; total time=   0.5s\n",
      "[CV] END .........C=545.5594781168514, degree=5, kernel=poly; total time=   0.3s\n",
      "[CV] END .........C=545.5594781168514, degree=5, kernel=poly; total time=   0.7s\n",
      "[CV] END .........C=545.5594781168514, degree=5, kernel=poly; total time=   0.7s\n",
      "[CV] END ..........C=545.5594781168514, degree=5, kernel=rbf; total time=   0.0s\n",
      "[CV] END ..........C=545.5594781168514, degree=5, kernel=rbf; total time=   0.0s\n",
      "[CV] END ..........C=545.5594781168514, degree=5, kernel=rbf; total time=   0.0s\n",
      "[CV] END ..........C=545.5594781168514, degree=5, kernel=rbf; total time=   0.0s\n",
      "[CV] END ..........C=545.5594781168514, degree=5, kernel=rbf; total time=   0.0s\n",
      "[CV] END ..........C=1438.44988828766, degree=5, kernel=poly; total time=   1.3s\n",
      "[CV] END ..........C=1438.44988828766, degree=5, kernel=poly; total time=   1.5s\n",
      "[CV] END ..........C=1438.44988828766, degree=5, kernel=poly; total time=   1.3s\n",
      "[CV] END ..........C=1438.44988828766, degree=5, kernel=poly; total time=   1.5s\n",
      "[CV] END ..........C=1438.44988828766, degree=5, kernel=poly; total time=   1.4s\n",
      "[CV] END ...........C=1438.44988828766, degree=5, kernel=rbf; total time=   0.0s\n",
      "[CV] END ...........C=1438.44988828766, degree=5, kernel=rbf; total time=   0.0s\n",
      "[CV] END ...........C=1438.44988828766, degree=5, kernel=rbf; total time=   0.0s\n",
      "[CV] END ...........C=1438.44988828766, degree=5, kernel=rbf; total time=   0.0s\n",
      "[CV] END ...........C=1438.44988828766, degree=5, kernel=rbf; total time=   0.0s\n",
      "[CV] END .........C=3792.690190732246, degree=5, kernel=poly; total time=   5.0s\n",
      "[CV] END .........C=3792.690190732246, degree=5, kernel=poly; total time=   5.6s\n",
      "[CV] END .........C=3792.690190732246, degree=5, kernel=poly; total time=   4.7s\n",
      "[CV] END .........C=3792.690190732246, degree=5, kernel=poly; total time=   4.7s\n",
      "[CV] END .........C=3792.690190732246, degree=5, kernel=poly; total time=   5.0s\n",
      "[CV] END ..........C=3792.690190732246, degree=5, kernel=rbf; total time=   0.1s\n",
      "[CV] END ..........C=3792.690190732246, degree=5, kernel=rbf; total time=   0.1s\n",
      "[CV] END ..........C=3792.690190732246, degree=5, kernel=rbf; total time=   0.1s\n",
      "[CV] END ..........C=3792.690190732246, degree=5, kernel=rbf; total time=   0.1s\n",
      "[CV] END ..........C=3792.690190732246, degree=5, kernel=rbf; total time=   0.0s\n",
      "[CV] END ...................C=10000.0, degree=5, kernel=poly; total time=  17.5s\n",
      "[CV] END ...................C=10000.0, degree=5, kernel=poly; total time=  30.8s\n",
      "[CV] END ...................C=10000.0, degree=5, kernel=poly; total time=  24.7s\n",
      "[CV] END ...................C=10000.0, degree=5, kernel=poly; total time=  23.4s\n",
      "[CV] END ...................C=10000.0, degree=5, kernel=poly; total time=  14.8s\n",
      "[CV] END ....................C=10000.0, degree=5, kernel=rbf; total time=   0.2s\n",
      "[CV] END ....................C=10000.0, degree=5, kernel=rbf; total time=   0.2s\n",
      "[CV] END ....................C=10000.0, degree=5, kernel=rbf; total time=   0.2s\n",
      "[CV] END ....................C=10000.0, degree=5, kernel=rbf; total time=   0.4s\n",
      "[CV] END ....................C=10000.0, degree=5, kernel=rbf; total time=   0.3s\n"
     ]
    },
    {
     "data": {
      "text/plain": [
       "{'C': 1438.44988828766, 'degree': 5, 'kernel': 'rbf'}"
      ]
     },
     "execution_count": 31,
     "metadata": {},
     "output_type": "execute_result"
    }
   ],
   "source": [
    "# SVC tuning with GridSearchCV\n",
    "np.random.seed(42)\n",
    "\n",
    "grid_SVC = {'C': np.logspace(-4, 4, 20),\n",
    "            'kernel':['poly', 'rbf'],\n",
    "            'degree': [5]}\n",
    "\n",
    "clf_SVC = SVC()\n",
    "\n",
    "gs_SVC = GridSearchCV(estimator=clf_SVC,\n",
    "                            param_grid=grid_SVC,\n",
    "                            cv=5,\n",
    "                            verbose=2)\n",
    "gs_SVC.fit(X_train, y_train)\n",
    "gs_SVC.best_params_"
   ]
  },
  {
   "cell_type": "code",
   "execution_count": 58,
   "id": "880dce28",
   "metadata": {},
   "outputs": [
    {
     "data": {
      "text/plain": [
       "0.8206521739130435"
      ]
     },
     "execution_count": 58,
     "metadata": {},
     "output_type": "execute_result"
    }
   ],
   "source": [
    "gs_SVC.score(X_test, y_test)  "
   ]
  },
  {
   "cell_type": "markdown",
   "id": "6178b450",
   "metadata": {},
   "source": [
    "## Evaluting our tuned ML classifier, beyond accuracy\n",
    "\n",
    "* ROC curve and AUC score\n",
    "* Confusion matrix\n",
    "* Precision\n",
    "* Recall\n",
    "* F1 score\n",
    "* Classification report\n",
    " "
   ]
  },
  {
   "cell_type": "code",
   "execution_count": 54,
   "id": "b99a4bdd",
   "metadata": {},
   "outputs": [
    {
     "data": {
      "text/plain": [
       "0.8206521739130435"
      ]
     },
     "execution_count": 54,
     "metadata": {},
     "output_type": "execute_result"
    }
   ],
   "source": [
    "np.random.seed(42)\n",
    "\n",
    "clf = SVC(C = 1438.44988828766,\n",
    "          kernel = 'rbf',\n",
    "          degree=5,\n",
    "          gamma=0.00001)\n",
    "clf.fit(X_train, y_train)\n",
    "clf.score(X_test, y_test)"
   ]
  },
  {
   "cell_type": "code",
   "execution_count": 59,
   "id": "efcfdc4b",
   "metadata": {},
   "outputs": [],
   "source": [
    "# Make predictions with tuned model\n",
    "y_preds = clf.predict(X_test)"
   ]
  },
  {
   "cell_type": "code",
   "execution_count": 60,
   "id": "d73c672a",
   "metadata": {},
   "outputs": [
    {
     "name": "stderr",
     "output_type": "stream",
     "text": [
      "C:\\Users\\ASUS\\anaconda3\\lib\\site-packages\\sklearn\\utils\\deprecation.py:87: FutureWarning: Function plot_roc_curve is deprecated; Function :func:`plot_roc_curve` is deprecated in 1.0 and will be removed in 1.2. Use one of the class methods: :meth:`sklearn.metric.RocCurveDisplay.from_predictions` or :meth:`sklearn.metric.RocCurveDisplay.from_estimator`.\n",
      "  warnings.warn(msg, category=FutureWarning)\n"
     ]
    },
    {
     "data": {
      "image/png": "[encoded data removed]",
      "text/plain": [
       "<Figure size 432x288 with 1 Axes>"
      ]
     },
     "metadata": {
      "needs_background": "light"
     },
     "output_type": "display_data"
    }
   ],
   "source": [
    "# Plot ROC curve and calculate AUC metric\n",
    "plot_roc_curve(clf, X_test, y_test);"
   ]
  },
  {
   "cell_type": "code",
   "execution_count": 61,
   "id": "ddf8b89b",
   "metadata": {},
   "outputs": [
    {
     "data": {
      "text/plain": [
       "<AxesSubplot:>"
      ]
     },
     "execution_count": 61,
     "metadata": {},
     "output_type": "execute_result"
    },
    {
     "data": {
      "image/png": "[encoded data removed]",
      "text/plain": [
       "<Figure size 432x288 with 2 Axes>"
      ]
     },
     "metadata": {},
     "output_type": "display_data"
    }
   ],
   "source": [
    "# Confusion matrix\n",
    "sns.set(font_scale=1.5)\n",
    "conf_mat=confusion_matrix(y_test, y_preds)\n",
    "sns.heatmap(conf_mat, annot=True)"
   ]
  },
  {
   "cell_type": "code",
   "execution_count": 62,
   "id": "94650480",
   "metadata": {},
   "outputs": [
    {
     "name": "stdout",
     "output_type": "stream",
     "text": [
      "              precision    recall  f1-score   support\n",
      "\n",
      "           0       0.76      0.79      0.77        71\n",
      "           1       0.86      0.84      0.85       113\n",
      "\n",
      "    accuracy                           0.82       184\n",
      "   macro avg       0.81      0.81      0.81       184\n",
      "weighted avg       0.82      0.82      0.82       184\n",
      "\n"
     ]
    }
   ],
   "source": [
    "print(classification_report(y_test, y_preds))"
   ]
  },
  {
   "cell_type": "markdown",
   "id": "0a2cb3dc",
   "metadata": {},
   "source": [
    "### Calculate evaluation metrics using cross-validation\n",
    "\n",
    "We're going to calculate precision, recall, f1-score of our model using cross-validation "
   ]
  },
  {
   "cell_type": "code",
   "execution_count": 63,
   "id": "ea13efb3",
   "metadata": {},
   "outputs": [
    {
     "name": "stdout",
     "output_type": "stream",
     "text": [
      "Accuracy: 79.96%\n",
      "Precision: 0.82\n",
      "Recall: 0.83\n",
      "F1 score: 0.82\n"
     ]
    }
   ],
   "source": [
    "cv_acc = cross_val_score(clf, X, y, cv=5, scoring=None)\n",
    "cv_recall = cross_val_score(clf, X, y, cv=5, scoring='recall')\n",
    "cv_precision = cross_val_score(clf, X, y, cv=5, scoring='precision')\n",
    "cv_f1 = cross_val_score(clf, X, y, cv=5, scoring='f1')\n",
    "\n",
    "print(f'Accuracy: {np.mean(cv_acc)*100:.2f}%')\n",
    "print(f'Precision: {np.mean(cv_precision):.2f}')\n",
    "print(f'Recall: {np.mean(cv_recall):.2f}')\n",
    "print(f'F1 score: {np.mean(cv_f1):.2f}')"
   ]
  },
  {
   "cell_type": "code",
   "execution_count": null,
   "id": "507edb16",
   "metadata": {},
   "outputs": [],
   "source": []
  }
 ],
 "metadata": {
  "kernelspec": {
   "display_name": "Python 3 (ipykernel)",
   "language": "python",
   "name": "python3"
  },
  "language_info": {
   "codemirror_mode": {
    "name": "ipython",
    "version": 3
   },
   "file_extension": ".py",
   "mimetype": "text/x-python",
   "name": "python",
   "nbconvert_exporter": "python",
   "pygments_lexer": "ipython3",
   "version": "3.9.12"
  }
 },
 "nbformat": 4,
 "nbformat_minor": 5
}
